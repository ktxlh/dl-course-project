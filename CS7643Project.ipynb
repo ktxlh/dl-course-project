{
  "nbformat": 4,
  "nbformat_minor": 0,
  "metadata": {
    "colab": {
      "provenance": []
    },
    "kernelspec": {
      "name": "python3",
      "display_name": "Python 3"
    },
    "language_info": {
      "name": "python"
    },
    "accelerator": "GPU",
    "gpuClass": "standard"
  },
  "cells": [
    {
      "cell_type": "code",
      "execution_count": null,
      "metadata": {
        "colab": {
          "base_uri": "https://localhost:8080/"
        },
        "id": "i3rw5U-13BMV",
        "outputId": "5883ec62-f71e-4a74-d89f-ce1ecf59b613"
      },
      "outputs": [
        {
          "output_type": "stream",
          "name": "stdout",
          "text": [
            "Mounted at /content/gdrive\n"
          ]
        }
      ],
      "source": [
        "from google.colab import drive\n",
        "drive.mount('/content/gdrive')"
      ]
    },
    {
      "cell_type": "code",
      "source": [
        "!unzip /content/gdrive/MyDrive/stereoset.zip"
      ],
      "metadata": {
        "colab": {
          "base_uri": "https://localhost:8080/"
        },
        "id": "m-RgS-mF34z3",
        "outputId": "ab00bcf6-324f-4fe1-ea35-23e5ad91bac9"
      },
      "execution_count": null,
      "outputs": [
        {
          "output_type": "stream",
          "name": "stdout",
          "text": [
            "Archive:  /content/gdrive/MyDrive/stereoset.zip\n",
            "   creating: stereoset/\n",
            "   creating: stereoset/.git/\n",
            "   creating: stereoset/.git/info/\n",
            "  inflating: stereoset/.git/info/exclude  \n",
            "   creating: stereoset/.git/branches/\n",
            "  inflating: stereoset/.git/description  \n",
            "   creating: stereoset/.git/hooks/\n",
            "  inflating: stereoset/.git/hooks/pre-merge-commit.sample  \n",
            "  inflating: stereoset/.git/hooks/prepare-commit-msg.sample  \n",
            "  inflating: stereoset/.git/hooks/update.sample  \n",
            "  inflating: stereoset/.git/hooks/pre-rebase.sample  \n",
            "  inflating: stereoset/.git/hooks/pre-commit.sample  \n",
            "  inflating: stereoset/.git/hooks/pre-push.sample  \n",
            "  inflating: stereoset/.git/hooks/fsmonitor-watchman.sample  \n",
            "  inflating: stereoset/.git/hooks/pre-applypatch.sample  \n",
            "  inflating: stereoset/.git/hooks/applypatch-msg.sample  \n",
            "  inflating: stereoset/.git/hooks/pre-receive.sample  \n",
            "  inflating: stereoset/.git/hooks/commit-msg.sample  \n",
            "  inflating: stereoset/.git/hooks/post-update.sample  \n",
            "   creating: stereoset/.git/refs/\n",
            "   creating: stereoset/.git/refs/heads/\n",
            "  inflating: stereoset/.git/refs/heads/master  \n",
            "   creating: stereoset/.git/refs/tags/\n",
            "   creating: stereoset/.git/refs/remotes/\n",
            "   creating: stereoset/.git/refs/remotes/origin/\n",
            "  inflating: stereoset/.git/refs/remotes/origin/HEAD  \n",
            "  inflating: stereoset/.git/index    \n",
            "   creating: stereoset/.git/objects/\n",
            "   creating: stereoset/.git/objects/pack/\n",
            "   creating: stereoset/.git/objects/info/\n",
            "   creating: stereoset/.git/objects/be/\n",
            "  inflating: stereoset/.git/objects/be/13fab2326f812b87dd97eebaba2b6793d510d5  \n",
            "  inflating: stereoset/.git/objects/be/a460e19b1a604557127291a7fddef2a99c9540  \n",
            "   creating: stereoset/.git/objects/63/\n",
            "  inflating: stereoset/.git/objects/63/aa0d85fdb7b06f2af61cb2ebc8a05e6af479b7  \n",
            "  inflating: stereoset/.git/objects/63/9871d1c4b64a996dea4a61c04903e85adbac49  \n",
            "  inflating: stereoset/.git/objects/63/7b1e3d284a3c629b74a4659c583b8eca9bd13e  \n",
            "   creating: stereoset/.git/objects/9d/\n",
            "  inflating: stereoset/.git/objects/9d/017ce383f138e191e0d56f084078db8d2f223a  \n",
            "   creating: stereoset/.git/objects/ea/\n",
            "  inflating: stereoset/.git/objects/ea/d7d086a64a192a1eca88e0dd2fd163de375218  \n",
            "  inflating: stereoset/.git/objects/ea/31b32c6ddde1649c6245e0de4c6d5cbe44b716  \n",
            "   creating: stereoset/.git/objects/3e/\n",
            "  inflating: stereoset/.git/objects/3e/83cc2b4867c93c413faa27e627e1e484c3eb9c  \n",
            "   creating: stereoset/.git/objects/9b/\n",
            "  inflating: stereoset/.git/objects/9b/13d31875a43d6ad76f5b03c6fe7871e46c6cc3  \n",
            "   creating: stereoset/.git/objects/ed/\n",
            "  inflating: stereoset/.git/objects/ed/5c0c40f70e92cd19750a71d9c3f0ffa12ed3e9  \n",
            "   creating: stereoset/.git/objects/ee/\n",
            "  inflating: stereoset/.git/objects/ee/1fce99b40ff68c64b6322823d483e51137d7ea  \n",
            "   creating: stereoset/.git/objects/c8/\n",
            "  inflating: stereoset/.git/objects/c8/60b58cf99e8fe1809c05469999ab0865e2bb6e  \n",
            "  inflating: stereoset/.git/objects/c8/845d33bcecc1c04695d38c2d8d5301e3169e11  \n",
            "   creating: stereoset/.git/objects/42/\n",
            "  inflating: stereoset/.git/objects/42/178c0d48eeb17d3ddac2a8c04d2de3b3d03ed5  \n",
            "  inflating: stereoset/.git/objects/42/d62fb7db2bcc0d6fdcfbdb5697a1154bcb2a5d  \n",
            "   creating: stereoset/.git/objects/cc/\n",
            "  inflating: stereoset/.git/objects/cc/3e2459dc5c46f1936b6e3b54137099063818e0  \n",
            "   creating: stereoset/.git/objects/34/\n",
            "  inflating: stereoset/.git/objects/34/5a36440c853b7b03e6d1756d4ea6a6b58aa8ca  \n",
            "   creating: stereoset/.git/objects/b1/\n",
            "  inflating: stereoset/.git/objects/b1/a2bb56848f8f35c4f610a62110dce3e0fea33b  \n",
            "   creating: stereoset/.git/objects/dd/\n",
            "  inflating: stereoset/.git/objects/dd/f8582b43e8b459f37e93258cc798dd40b4eb01  \n",
            "   creating: stereoset/.git/objects/ab/\n",
            "  inflating: stereoset/.git/objects/ab/e16098c68fc31ff3ccaa4add75b834f0348813  \n",
            "  inflating: stereoset/.git/objects/ab/51838b7b50fc5669f6342ca09b68bd3a37a1ba  \n",
            "  inflating: stereoset/.git/objects/ab/6647a105f09f9730d4f981e69fe6723bbd0330  \n",
            "   creating: stereoset/.git/objects/e0/\n",
            "  inflating: stereoset/.git/objects/e0/b5f0798e63bf35c0c4e7a2dd15a8d47185db25  \n",
            "   creating: stereoset/.git/objects/a9/\n",
            "  inflating: stereoset/.git/objects/a9/f19aa21fddd5b809a08ef73aa90cca963acd99  \n",
            "   creating: stereoset/.git/objects/71/\n",
            "  inflating: stereoset/.git/objects/71/cd0a503c52513490f8b2398df91f1d8bc91289  \n",
            "   creating: stereoset/.git/objects/57/\n",
            "  inflating: stereoset/.git/objects/57/bb22d4d645ca0e386e964b9fa16ee668bafe93  \n",
            "   creating: stereoset/.git/objects/72/\n",
            "  inflating: stereoset/.git/objects/72/3736876c896061e8abb98c71eaa1bb91deb1bd  \n",
            "  inflating: stereoset/.git/objects/72/8ff1a75236b0307b977e7bddce0b343af00f88  \n",
            "   creating: stereoset/.git/objects/aa/\n",
            "  inflating: stereoset/.git/objects/aa/e6d20a0b797a2522a948dfd47c7ce01c57201b  \n",
            "   creating: stereoset/.git/objects/01/\n",
            "  inflating: stereoset/.git/objects/01/1938d43b9ea5619f1e96db0faee88fd1ca5f14  \n",
            "   creating: stereoset/.git/objects/4d/\n",
            "  inflating: stereoset/.git/objects/4d/bda992062fc856965429d910d4c9fe67d53bf9  \n",
            "   creating: stereoset/.git/objects/02/\n",
            "  inflating: stereoset/.git/objects/02/c6971b49a1e04631ee4c5689bc0dbe05d5cad4  \n",
            "   creating: stereoset/.git/objects/c5/\n",
            "  inflating: stereoset/.git/objects/c5/45ef4dd0ad85fb95ae07fa5f797c90369463f5  \n",
            "  inflating: stereoset/.git/objects/c5/c19a0beb827a5ec5661709a817b2e78f3b99b4  \n",
            "   creating: stereoset/.git/objects/f1/\n",
            "  inflating: stereoset/.git/objects/f1/4cb8c0d6d2481f348f12ef51529cd87f444f85  \n",
            "   creating: stereoset/.git/objects/8b/\n",
            "  inflating: stereoset/.git/objects/8b/835d63a53f6fefa0e85b47b1ce65622e0edbf6  \n",
            "   creating: stereoset/.git/objects/bf/\n",
            "  inflating: stereoset/.git/objects/bf/ef218b38e9130a9857cd6aac280ccce4890f36  \n",
            "   creating: stereoset/.git/objects/89/\n",
            "  inflating: stereoset/.git/objects/89/4cb0da9f2e65fa723b48dcda4f8334669a3c42  \n",
            "  inflating: stereoset/.git/objects/89/5970da977b4b23abbc9f21fa1641d17eb98a61  \n",
            "   creating: stereoset/.git/objects/48/\n",
            "  inflating: stereoset/.git/objects/48/73e5fa06ca246ff1ba01db43d0780e5da8c11f  \n",
            "   creating: stereoset/.git/objects/2d/\n",
            "  inflating: stereoset/.git/objects/2d/1fcac285a325b7f3bb68b3e017e68f5aa279b9  \n",
            "  inflating: stereoset/.git/objects/2d/e2fa9ee24c3937e07ac2cc8c8516649e426775  \n",
            "   creating: stereoset/.git/objects/5e/\n",
            "  inflating: stereoset/.git/objects/5e/c3c20733804d3f6d3b14a1f2604f887f181232  \n",
            "   creating: stereoset/.git/objects/39/\n",
            "  inflating: stereoset/.git/objects/39/81055e047215f5f6288e3d00f8414dbda2fb96  \n",
            "   creating: stereoset/.git/objects/d2/\n",
            "  inflating: stereoset/.git/objects/d2/d5186a65fbcbcf3376bff637142d9a4261c090  \n",
            "   creating: stereoset/.git/objects/b0/\n",
            "  inflating: stereoset/.git/objects/b0/2f457107c7cc1bf058f22823117b3bc99d5993  \n",
            "  inflating: stereoset/.git/objects/b0/cfabf5b250480bd652efe44465f6d87871da47  \n",
            "   creating: stereoset/.git/objects/0b/\n",
            "  inflating: stereoset/.git/objects/0b/ee2c5db8e7f141c382ed04bb4d0dd81cef99b3  \n",
            "   creating: stereoset/.git/objects/6a/\n",
            "  inflating: stereoset/.git/objects/6a/7648c7d637275e81e4fde364ed675d69474135  \n",
            "   creating: stereoset/.git/objects/73/\n",
            "  inflating: stereoset/.git/objects/73/0b3bab7ef067e8f15752a59a213e52ee0a645d  \n",
            "   creating: stereoset/.git/objects/e2/\n",
            "  inflating: stereoset/.git/objects/e2/1922f811b69ecc8459f8e2be526bc24734948b  \n",
            "   creating: stereoset/.git/objects/79/\n",
            "  inflating: stereoset/.git/objects/79/d58bec14fbee44f1a41c8d5afe931d9c2c253f  \n",
            "   creating: stereoset/.git/objects/33/\n",
            "  inflating: stereoset/.git/objects/33/5e461f0bf372e98178c362803c3e3aae7d2c49  \n",
            "   creating: stereoset/.git/objects/55/\n",
            "  inflating: stereoset/.git/objects/55/68f013bf34534de43dac3c2f82703c9018ab54  \n",
            "   creating: stereoset/.git/objects/db/\n",
            "  inflating: stereoset/.git/objects/db/c2add91b3b8f0606c05448768a13fc93b536ee  \n",
            "  inflating: stereoset/.git/objects/db/3056f267f30862e09595e1bebdf03b1e8721ef  \n",
            "   creating: stereoset/.git/objects/98/\n",
            "  inflating: stereoset/.git/objects/98/a9e37c76540d2b3a0842c78c6d6adbd1518718  \n",
            "  inflating: stereoset/.git/objects/98/d7e3002a1e0bece9483af48cf478255227ff52  \n",
            "   creating: stereoset/.git/objects/14/\n",
            "  inflating: stereoset/.git/objects/14/fbe9feb2cfeb3618504669e1e5cec9f45f61d0  \n",
            "   creating: stereoset/.git/objects/54/\n",
            "  inflating: stereoset/.git/objects/54/c5661d394120e2412faa3724745c9ae819a883  \n",
            "   creating: stereoset/.git/objects/9e/\n",
            "  inflating: stereoset/.git/objects/9e/d00518428eadfd9fdcef1514950c1768151ca7  \n",
            "   creating: stereoset/.git/objects/37/\n",
            "  inflating: stereoset/.git/objects/37/106df29b45981ab148b72ff5712f1cf3caf229  \n",
            "   creating: stereoset/.git/objects/0c/\n",
            "  inflating: stereoset/.git/objects/0c/c81121fcc8f6c4bd3395cf2b8202b940b8b136  \n",
            "   creating: stereoset/.git/objects/ae/\n",
            "  inflating: stereoset/.git/objects/ae/adfc3d2070a367de48487749b37682846fa09b  \n",
            "   creating: stereoset/.git/objects/6e/\n",
            "  inflating: stereoset/.git/objects/6e/7946874e4129c6eef258c31127fbbb72246547  \n",
            "   creating: stereoset/.git/objects/df/\n",
            "  inflating: stereoset/.git/objects/df/8ff8aa6868a6187d37b0ab9d9daebfa6d1d599  \n",
            "  inflating: stereoset/.git/objects/df/188051605295ed6d6b72ef221ffaabfada0a4a  \n",
            "   creating: stereoset/.git/objects/26/\n",
            "  inflating: stereoset/.git/objects/26/ae91025d192ca86a03c8195101658d709570f9  \n",
            "   creating: stereoset/.git/objects/35/\n",
            "  inflating: stereoset/.git/objects/35/55cce6bbc3fc4841cfdebb61c4b5f1bbab4b88  \n",
            "   creating: stereoset/.git/objects/2f/\n",
            "  inflating: stereoset/.git/objects/2f/e804adc34b1844875095ca4f22750cffe011f1  \n",
            "   creating: stereoset/.git/objects/86/\n",
            "  inflating: stereoset/.git/objects/86/661e8b0ed42bf248541ed391f6738637f89f4c  \n",
            "   creating: stereoset/.git/objects/25/\n",
            "  inflating: stereoset/.git/objects/25/56ffd19d12792d479e5955a270a10d8c2b9054  \n",
            "   creating: stereoset/.git/objects/60/\n",
            "  inflating: stereoset/.git/objects/60/e433d83a3288efc169e041decd19dfd4c7ca71  \n",
            "   creating: stereoset/.git/objects/de/\n",
            "  inflating: stereoset/.git/objects/de/f67d869589bbbbb9b352ee6fb37c5ff51a1564  \n",
            "   creating: stereoset/.git/objects/00/\n",
            "  inflating: stereoset/.git/objects/00/e19ad5ce09bd2f1277d047d931982c91a7ae62  \n",
            "   creating: stereoset/.git/objects/2e/\n",
            "  inflating: stereoset/.git/objects/2e/8d20d7c3556d62420eba1c72e623008b36e5e4  \n",
            "   creating: stereoset/.git/objects/b3/\n",
            "  inflating: stereoset/.git/objects/b3/5fc1ab0ed88cf1ef160753df9bc59ae04d5856  \n",
            "   creating: stereoset/.git/objects/da/\n",
            "  inflating: stereoset/.git/objects/da/a06d93ad75d00e82d9c609a714331a4d605fa7  \n",
            "   creating: stereoset/.git/objects/d5/\n",
            "  inflating: stereoset/.git/objects/d5/b1e962e4339dbe33b6bed5fe7f014e6b4de1ce  \n",
            "   creating: stereoset/.git/objects/8d/\n",
            "  inflating: stereoset/.git/objects/8d/ef70d1df5cb45289b6ceace1d4d01d85df412b  \n",
            "   creating: stereoset/.git/objects/c4/\n",
            "  inflating: stereoset/.git/objects/c4/3c98648bc3ab13c1d520367059b55892af71c8  \n",
            "   creating: stereoset/.git/objects/ca/\n",
            "  inflating: stereoset/.git/objects/ca/b111a97b0fc14274a754ce43386c6a50b34482  \n",
            "  inflating: stereoset/.git/config   \n",
            "  inflating: stereoset/.git/packed-refs  \n",
            "   creating: stereoset/.git/logs/\n",
            "   creating: stereoset/.git/logs/refs/\n",
            "   creating: stereoset/.git/logs/refs/remotes/\n",
            "   creating: stereoset/.git/logs/refs/remotes/origin/\n",
            "  inflating: stereoset/.git/logs/refs/remotes/origin/HEAD  \n",
            "   creating: stereoset/.git/logs/refs/heads/\n",
            "  inflating: stereoset/.git/logs/refs/heads/master  \n",
            "  inflating: stereoset/.git/logs/HEAD  \n",
            "  inflating: stereoset/.git/HEAD     \n",
            "  inflating: stereoset/LICENSE.md    \n",
            "  inflating: stereoset/README.md     \n",
            "   creating: stereoset/code/\n",
            "  inflating: stereoset/code/.gitignore  \n",
            "  inflating: stereoset/code/Makefile  \n",
            "  inflating: stereoset/code/README.md  \n",
            "  inflating: stereoset/code/dataloader.py  \n",
            "  inflating: stereoset/code/eval_discriminative_models.py  \n",
            "  inflating: stereoset/code/eval_ensemble.py  \n",
            "  inflating: stereoset/code/eval_generative_models.py  \n",
            "  inflating: stereoset/code/eval_sentiment_models.py  \n",
            "  inflating: stereoset/code/evaluation.py  \n",
            "  inflating: stereoset/code/intersentence_loader.py  \n",
            "   creating: stereoset/code/models/\n",
            "  inflating: stereoset/code/models/__init__.py  \n",
            "   creating: stereoset/code/models/__pycache__/\n",
            "  inflating: stereoset/code/models/__pycache__/__init__.cpython-37.pyc  \n",
            "  inflating: stereoset/code/models/__pycache__/models.cpython-37.pyc  \n",
            "  inflating: stereoset/code/models/download_models.sh  \n",
            "  inflating: stereoset/code/models/models.py  \n",
            "   creating: stereoset/code/nsp_prediction/\n",
            "  inflating: stereoset/code/nsp_prediction/README.md  \n",
            "  inflating: stereoset/code/nsp_prediction/average_token_length.py  \n",
            "  inflating: stereoset/code/nsp_prediction/dataset.py  \n",
            "  inflating: stereoset/code/nsp_prediction/main.py  \n",
            "   creating: stereoset/code/nsp_prediction/process_wikipedia/\n",
            "  inflating: stereoset/code/nsp_prediction/process_wikipedia/WikiExtractor.py  \n",
            "  inflating: stereoset/code/nsp_prediction/process_wikipedia/categories.filter  \n",
            "  inflating: stereoset/code/nsp_prediction/process_wikipedia/cirrus-extract.py  \n",
            "  inflating: stereoset/code/nsp_prediction/process_wikipedia/extract.sh  \n",
            "   creating: stereoset/code/nsp_prediction/process_wikipedia/wikiextractor/\n",
            "  inflating: stereoset/code/nsp_prediction/process_wikipedia/wikiextractor/README.md  \n",
            "  inflating: stereoset/code/nsp_prediction/process_wikipedia/wikiextractor/WikiExtractor.py  \n",
            "  inflating: stereoset/code/nsp_prediction/process_wikipedia/wikiextractor/categories.filter  \n",
            "  inflating: stereoset/code/nsp_prediction/process_wikipedia/wikiextractor/cirrus-extract.py  \n",
            "  inflating: stereoset/code/nsp_prediction/process_wikipedia/wikiextractor/extract.sh  \n",
            "  inflating: stereoset/code/predictions.json  \n",
            "  inflating: stereoset/code/predictions.txt  \n",
            "   creating: stereoset/code/predictions/\n",
            "  inflating: stereoset/code/predictions/predictions_EnsembleModel_.json  \n",
            "  inflating: stereoset/code/predictions/predictions_SentimentModel.json  \n",
            "  inflating: stereoset/code/predictions/predictions_bert-base-cased_BertNextSentence_BertLM.json  \n",
            "  inflating: stereoset/code/predictions/predictions_bert-large-cased_BertNextSentence_BertLM.json  \n",
            "  inflating: stereoset/code/predictions/predictions_gpt2-large_ModelNSP_GPT2LM.json  \n",
            "  inflating: stereoset/code/predictions/predictions_gpt2-medium_ModelNSP_GPT2LM.json  \n",
            "  inflating: stereoset/code/predictions/predictions_gpt2_ModelNSP_GPT2LM.json  \n",
            "  inflating: stereoset/code/predictions/predictions_roberta-base_ModelNSP_RoBERTaLM.json  \n",
            "  inflating: stereoset/code/predictions/predictions_roberta-large_ModelNSP_RoBERTaLM.json  \n",
            "  inflating: stereoset/code/predictions/predictions_xlnet-base-cased_ModelNSP_XLNetLM.json  \n",
            "  inflating: stereoset/code/predictions/predictions_xlnet-large-cased_ModelNSP_XLNetLM.json  \n",
            "   creating: stereoset/code/tables/\n",
            "  inflating: stereoset/code/tables/README.md  \n",
            "  inflating: stereoset/code/tables/analysis.py  \n",
            "  inflating: stereoset/code/tables/compute_domain_stats.py  \n",
            "  inflating: stereoset/code/tables/compute_terms_domains.py  \n",
            "  inflating: stereoset/code/tables/find_universal_examples.py  \n",
            "  inflating: stereoset/code/utils.py  \n",
            "   creating: stereoset/data/\n",
            "  inflating: stereoset/data/dev.json  \n",
            "  inflating: stereoset/data/test_terms.txt  \n",
            "  inflating: stereoset/requirements.txt  \n"
          ]
        }
      ]
    },
    {
      "cell_type": "code",
      "source": [
        "!cd stereoset\n",
        "!pip install -r stereoset/requirements.txt"
      ],
      "metadata": {
        "colab": {
          "base_uri": "https://localhost:8080/"
        },
        "id": "czv3Ed-L4Q3i",
        "outputId": "4730a4ee-681c-4f82-d877-5b7e743e0448"
      },
      "execution_count": null,
      "outputs": [
        {
          "output_type": "stream",
          "name": "stdout",
          "text": [
            "Looking in indexes: https://pypi.org/simple, https://us-python.pkg.dev/colab-wheels/public/simple/\n",
            "Collecting blis==0.4.1\n",
            "  Downloading blis-0.4.1.tar.gz (1.8 MB)\n",
            "\u001b[2K     \u001b[90m━━━━━━━━━━━━━━━━━━━━━━━━━━━━━━━━━━━━━━━━\u001b[0m \u001b[32m1.8/1.8 MB\u001b[0m \u001b[31m50.5 MB/s\u001b[0m eta \u001b[36m0:00:00\u001b[0m\n",
            "\u001b[?25h  Preparing metadata (setup.py) ... \u001b[?25l\u001b[?25hdone\n",
            "Collecting boto3==1.12.36\n",
            "  Downloading boto3-1.12.36-py2.py3-none-any.whl (128 kB)\n",
            "\u001b[2K     \u001b[90m━━━━━━━━━━━━━━━━━━━━━━━━━━━━━━━━━━━━━━\u001b[0m \u001b[32m128.6/128.6 kB\u001b[0m \u001b[31m14.0 MB/s\u001b[0m eta \u001b[36m0:00:00\u001b[0m\n",
            "\u001b[?25hCollecting botocore==1.15.36\n",
            "  Downloading botocore-1.15.36-py2.py3-none-any.whl (6.1 MB)\n",
            "\u001b[2K     \u001b[90m━━━━━━━━━━━━━━━━━━━━━━━━━━━━━━━━━━━━━━━━\u001b[0m \u001b[32m6.1/6.1 MB\u001b[0m \u001b[31m68.0 MB/s\u001b[0m eta \u001b[36m0:00:00\u001b[0m\n",
            "\u001b[?25hCollecting catalogue==1.0.0\n",
            "  Downloading catalogue-1.0.0-py2.py3-none-any.whl (7.7 kB)\n",
            "Collecting certifi==2019.11.28\n",
            "  Downloading certifi-2019.11.28-py2.py3-none-any.whl (156 kB)\n",
            "\u001b[2K     \u001b[90m━━━━━━━━━━━━━━━━━━━━━━━━━━━━━━━━━━━━━━\u001b[0m \u001b[32m156.0/156.0 kB\u001b[0m \u001b[31m21.6 MB/s\u001b[0m eta \u001b[36m0:00:00\u001b[0m\n",
            "\u001b[?25hCollecting chardet==3.0.4\n",
            "  Downloading chardet-3.0.4-py2.py3-none-any.whl (133 kB)\n",
            "\u001b[2K     \u001b[90m━━━━━━━━━━━━━━━━━━━━━━━━━━━━━━━━━━━━━━\u001b[0m \u001b[32m133.4/133.4 kB\u001b[0m \u001b[31m18.2 MB/s\u001b[0m eta \u001b[36m0:00:00\u001b[0m\n",
            "\u001b[?25hCollecting click==7.1.1\n",
            "  Downloading click-7.1.1-py2.py3-none-any.whl (82 kB)\n",
            "\u001b[2K     \u001b[90m━━━━━━━━━━━━━━━━━━━━━━━━━━━━━━━━━━━━━━━━\u001b[0m \u001b[32m82.8/82.8 kB\u001b[0m \u001b[31m13.0 MB/s\u001b[0m eta \u001b[36m0:00:00\u001b[0m\n",
            "\u001b[?25hCollecting colorama==0.4.3\n",
            "  Downloading colorama-0.4.3-py2.py3-none-any.whl (15 kB)\n",
            "Collecting cymem==2.0.3\n",
            "  Downloading cymem-2.0.3.tar.gz (51 kB)\n",
            "\u001b[2K     \u001b[90m━━━━━━━━━━━━━━━━━━━━━━━━━━━━━━━━━━━━━━━━\u001b[0m \u001b[32m51.0/51.0 kB\u001b[0m \u001b[31m7.7 MB/s\u001b[0m eta \u001b[36m0:00:00\u001b[0m\n",
            "\u001b[?25h  Preparing metadata (setup.py) ... \u001b[?25l\u001b[?25hdone\n",
            "Collecting docutils==0.15.2\n",
            "  Downloading docutils-0.15.2-py3-none-any.whl (547 kB)\n",
            "\u001b[2K     \u001b[90m━━━━━━━━━━━━━━━━━━━━━━━━━━━━━━━━━━━━━━\u001b[0m \u001b[32m547.6/547.6 kB\u001b[0m \u001b[31m51.4 MB/s\u001b[0m eta \u001b[36m0:00:00\u001b[0m\n",
            "\u001b[?25h\u001b[31mERROR: Could not find a version that satisfies the requirement en-core-web-sm==2.2.5 (from versions: none)\u001b[0m\u001b[31m\n",
            "\u001b[0m\u001b[31mERROR: No matching distribution found for en-core-web-sm==2.2.5\u001b[0m\u001b[31m\n",
            "\u001b[0m"
          ]
        }
      ]
    },
    {
      "cell_type": "code",
      "source": [
        "!pip3 install transformers\n",
        "!pip3 install colorama"
      ],
      "metadata": {
        "colab": {
          "base_uri": "https://localhost:8080/"
        },
        "id": "Pzi60sUF5M1R",
        "outputId": "4698908b-0085-4122-90c2-d29272472fa4"
      },
      "execution_count": null,
      "outputs": [
        {
          "output_type": "stream",
          "name": "stdout",
          "text": [
            "Looking in indexes: https://pypi.org/simple, https://us-python.pkg.dev/colab-wheels/public/simple/\n",
            "Collecting transformers\n",
            "  Downloading transformers-4.28.1-py3-none-any.whl (7.0 MB)\n",
            "\u001b[2K     \u001b[90m━━━━━━━━━━━━━━━━━━━━━━━━━━━━━━━━━━━━━━━━\u001b[0m \u001b[32m7.0/7.0 MB\u001b[0m \u001b[31m93.2 MB/s\u001b[0m eta \u001b[36m0:00:00\u001b[0m\n",
            "\u001b[?25hRequirement already satisfied: pyyaml>=5.1 in /usr/local/lib/python3.10/dist-packages (from transformers) (6.0)\n",
            "Requirement already satisfied: filelock in /usr/local/lib/python3.10/dist-packages (from transformers) (3.12.0)\n",
            "Requirement already satisfied: requests in /usr/local/lib/python3.10/dist-packages (from transformers) (2.27.1)\n",
            "Requirement already satisfied: tqdm>=4.27 in /usr/local/lib/python3.10/dist-packages (from transformers) (4.65.0)\n",
            "Requirement already satisfied: packaging>=20.0 in /usr/local/lib/python3.10/dist-packages (from transformers) (23.1)\n",
            "Collecting tokenizers!=0.11.3,<0.14,>=0.11.1\n",
            "  Downloading tokenizers-0.13.3-cp310-cp310-manylinux_2_17_x86_64.manylinux2014_x86_64.whl (7.8 MB)\n",
            "\u001b[2K     \u001b[90m━━━━━━━━━━━━━━━━━━━━━━━━━━━━━━━━━━━━━━━━\u001b[0m \u001b[32m7.8/7.8 MB\u001b[0m \u001b[31m107.1 MB/s\u001b[0m eta \u001b[36m0:00:00\u001b[0m\n",
            "\u001b[?25hRequirement already satisfied: regex!=2019.12.17 in /usr/local/lib/python3.10/dist-packages (from transformers) (2022.10.31)\n",
            "Collecting huggingface-hub<1.0,>=0.11.0\n",
            "  Downloading huggingface_hub-0.14.1-py3-none-any.whl (224 kB)\n",
            "\u001b[2K     \u001b[90m━━━━━━━━━━━━━━━━━━━━━━━━━━━━━━━━━━━━━━\u001b[0m \u001b[32m224.5/224.5 kB\u001b[0m \u001b[31m27.3 MB/s\u001b[0m eta \u001b[36m0:00:00\u001b[0m\n",
            "\u001b[?25hRequirement already satisfied: numpy>=1.17 in /usr/local/lib/python3.10/dist-packages (from transformers) (1.22.4)\n",
            "Requirement already satisfied: typing-extensions>=3.7.4.3 in /usr/local/lib/python3.10/dist-packages (from huggingface-hub<1.0,>=0.11.0->transformers) (4.5.0)\n",
            "Requirement already satisfied: fsspec in /usr/local/lib/python3.10/dist-packages (from huggingface-hub<1.0,>=0.11.0->transformers) (2023.4.0)\n",
            "Requirement already satisfied: urllib3<1.27,>=1.21.1 in /usr/local/lib/python3.10/dist-packages (from requests->transformers) (1.26.15)\n",
            "Requirement already satisfied: charset-normalizer~=2.0.0 in /usr/local/lib/python3.10/dist-packages (from requests->transformers) (2.0.12)\n",
            "Requirement already satisfied: certifi>=2017.4.17 in /usr/local/lib/python3.10/dist-packages (from requests->transformers) (2022.12.7)\n",
            "Requirement already satisfied: idna<4,>=2.5 in /usr/local/lib/python3.10/dist-packages (from requests->transformers) (3.4)\n",
            "Installing collected packages: tokenizers, huggingface-hub, transformers\n",
            "Successfully installed huggingface-hub-0.14.1 tokenizers-0.13.3 transformers-4.28.1\n",
            "Looking in indexes: https://pypi.org/simple, https://us-python.pkg.dev/colab-wheels/public/simple/\n",
            "Collecting colorama\n",
            "  Downloading colorama-0.4.6-py2.py3-none-any.whl (25 kB)\n",
            "Installing collected packages: colorama\n",
            "Successfully installed colorama-0.4.6\n"
          ]
        }
      ]
    },
    {
      "cell_type": "code",
      "source": [
        "# Check device availability\n",
        "import torch\n",
        "device = torch.device('cuda' if torch.cuda.is_available() else 'cpu')\n",
        "print(\"You are using device: %s\" % device)"
      ],
      "metadata": {
        "colab": {
          "base_uri": "https://localhost:8080/"
        },
        "id": "2Fl8GuAg5_AS",
        "outputId": "420df8a4-6b3d-4bee-c48d-f288fb8ab86a"
      },
      "execution_count": null,
      "outputs": [
        {
          "output_type": "stream",
          "name": "stdout",
          "text": [
            "You are using device: cuda\n"
          ]
        }
      ]
    },
    {
      "cell_type": "code",
      "source": [
        "\n",
        "#!cd stereoset/code && make all\n",
        "#!source stereoset/code/models/download_models.sh\n",
        "#!wget -P pretrained_models http://moinnadeem.com/stereoset/pretrained_models/GPT2Model_gpt2_0.0005.pth\n",
        "\n",
        "#python3 eval_generative_models.py --pretrained-class gpt2 --intrasentence-model GPT2LM --intersentence-model ModelNSP --tokenizer GPT2Tokenizer --max-seq-length 128 --intersentence-load-path models/pretrained_models/GPT2Model_gpt2_0.0005.pth --batch-size 1 --input-file ../data/dev.json --output-dir predictions/\n",
        "\n",
        "#!cd stereoset/code && ls\n",
        "\n",
        "\n",
        "!python3 stereoset/code/eval_discriminative_models.py --pretrained-class bert-base-cased --tokenizer BertTokenizer --intrasentence-model BertLM --intersentence-model BertNextSentence --input-file stereoset/data/dev.json --output-dir stereoset/code/predictions/ \n"
      ],
      "metadata": {
        "id": "lbHdbtna6vgH"
      },
      "execution_count": null,
      "outputs": []
    },
    {
      "cell_type": "code",
      "source": [
        "!git lfs install\n",
        "!git clone https://huggingface.co/gpt2"
      ],
      "metadata": {
        "id": "SjQ6Gelz_gg9"
      },
      "execution_count": null,
      "outputs": []
    },
    {
      "cell_type": "code",
      "source": [
        "#!vi gpt2/READMEmd"
      ],
      "metadata": {
        "id": "5m28CO7iADDK",
        "colab": {
          "base_uri": "https://localhost:8080/"
        },
        "outputId": "13b23822-2e12-4b0a-c33f-bfb4d0a6fa5f"
      },
      "execution_count": null,
      "outputs": [
        {
          "output_type": "stream",
          "name": "stdout",
          "text": [
            "Looking in indexes: https://pypi.org/simple, https://us-python.pkg.dev/colab-wheels/public/simple/\n",
            "\u001b[31mERROR: Could not find a version that satisfies the requirement torch===1.10.2 (from versions: 1.11.0, 1.12.0, 1.12.1, 1.13.0, 1.13.1, 2.0.0)\u001b[0m\u001b[31m\n",
            "\u001b[0m\u001b[31mERROR: No matching distribution found for torch===1.10.2\u001b[0m\u001b[31m\n",
            "\u001b[0m"
          ]
        }
      ]
    },
    {
      "cell_type": "code",
      "source": [
        "!git clone https://github.com/mcgill-nlp/bias-bench.git\n",
        "#!ls\n",
        "!cd bias-bench && python3 -m pip install -e ."
      ],
      "metadata": {
        "colab": {
          "base_uri": "https://localhost:8080/"
        },
        "id": "9cH7YChJGxJs",
        "outputId": "e40ae85c-f13f-4fb9-ece6-3bf61946b393"
      },
      "execution_count": null,
      "outputs": [
        {
          "output_type": "stream",
          "name": "stdout",
          "text": [
            "fatal: destination path 'bias-bench' already exists and is not an empty directory.\n",
            "Looking in indexes: https://pypi.org/simple, https://us-python.pkg.dev/colab-wheels/public/simple/\n",
            "Obtaining file:///content/bias-bench\n",
            "  Preparing metadata (setup.py) ... \u001b[?25l\u001b[?25hdone\n",
            "Collecting torch==1.11.0 (from bias-bench==0.1.0)\n",
            "  Downloading torch-1.11.0-cp310-cp310-manylinux1_x86_64.whl (750.6 MB)\n",
            "\u001b[2K     \u001b[90m━━━━━━━━━━━━━━━━━━━━━━━━━━━━━━━━━━━━━━━\u001b[0m \u001b[32m750.6/750.6 MB\u001b[0m \u001b[31m2.0 MB/s\u001b[0m eta \u001b[36m0:00:00\u001b[0m\n",
            "\u001b[?25hCollecting transformers==4.16.2 (from bias-bench==0.1.0)\n",
            "  Downloading transformers-4.16.2-py3-none-any.whl (3.5 MB)\n",
            "\u001b[2K     \u001b[90m━━━━━━━━━━━━━━━━━━━━━━━━━━━━━━━━━━━━━━━━\u001b[0m \u001b[32m3.5/3.5 MB\u001b[0m \u001b[31m96.8 MB/s\u001b[0m eta \u001b[36m0:00:00\u001b[0m\n",
            "\u001b[?25hCollecting scipy==1.7.3 (from bias-bench==0.1.0)\n",
            "  Downloading scipy-1.7.3-cp310-cp310-manylinux_2_17_x86_64.manylinux2014_x86_64.whl (39.9 MB)\n",
            "\u001b[2K     \u001b[90m━━━━━━━━━━━━━━━━━━━━━━━━━━━━━━━━━━━━━━━━\u001b[0m \u001b[32m39.9/39.9 MB\u001b[0m \u001b[31m19.5 MB/s\u001b[0m eta \u001b[36m0:00:00\u001b[0m\n",
            "\u001b[?25hCollecting scikit-learn==1.0.2 (from bias-bench==0.1.0)\n",
            "  Downloading scikit_learn-1.0.2-cp310-cp310-manylinux_2_17_x86_64.manylinux2014_x86_64.whl (26.5 MB)\n",
            "\u001b[2K     \u001b[90m━━━━━━━━━━━━━━━━━━━━━━━━━━━━━━━━━━━━━━━━\u001b[0m \u001b[32m26.5/26.5 MB\u001b[0m \u001b[31m62.3 MB/s\u001b[0m eta \u001b[36m0:00:00\u001b[0m\n",
            "\u001b[?25hCollecting nltk==3.7.0 (from bias-bench==0.1.0)\n",
            "  Downloading nltk-3.7-py3-none-any.whl (1.5 MB)\n",
            "\u001b[2K     \u001b[90m━━━━━━━━━━━━━━━━━━━━━━━━━━━━━━━━━━━━━━━━\u001b[0m \u001b[32m1.5/1.5 MB\u001b[0m \u001b[31m81.0 MB/s\u001b[0m eta \u001b[36m0:00:00\u001b[0m\n",
            "\u001b[?25hCollecting datasets==1.18.3 (from bias-bench==0.1.0)\n",
            "  Downloading datasets-1.18.3-py3-none-any.whl (311 kB)\n",
            "\u001b[2K     \u001b[90m━━━━━━━━━━━━━━━━━━━━━━━━━━━━━━━━━━━━━━\u001b[0m \u001b[32m311.7/311.7 kB\u001b[0m \u001b[31m35.3 MB/s\u001b[0m eta \u001b[36m0:00:00\u001b[0m\n",
            "\u001b[?25hCollecting accelerate==0.5.1 (from bias-bench==0.1.0)\n",
            "  Downloading accelerate-0.5.1-py3-none-any.whl (58 kB)\n",
            "\u001b[2K     \u001b[90m━━━━━━━━━━━━━━━━━━━━━━━━━━━━━━━━━━━━━━━━\u001b[0m \u001b[32m58.0/58.0 kB\u001b[0m \u001b[31m7.3 MB/s\u001b[0m eta \u001b[36m0:00:00\u001b[0m\n",
            "\u001b[?25hRequirement already satisfied: pyyaml in /usr/local/lib/python3.10/dist-packages (from accelerate==0.5.1->bias-bench==0.1.0) (6.0)\n",
            "Requirement already satisfied: numpy>=1.17 in /usr/local/lib/python3.10/dist-packages (from accelerate==0.5.1->bias-bench==0.1.0) (1.22.4)\n",
            "Requirement already satisfied: pyarrow!=4.0.0,>=3.0.0 in /usr/local/lib/python3.10/dist-packages (from datasets==1.18.3->bias-bench==0.1.0) (9.0.0)\n",
            "Collecting dill (from datasets==1.18.3->bias-bench==0.1.0)\n",
            "  Downloading dill-0.3.6-py3-none-any.whl (110 kB)\n",
            "\u001b[2K     \u001b[90m━━━━━━━━━━━━━━━━━━━━━━━━━━━━━━━━━━━━━━\u001b[0m \u001b[32m110.5/110.5 kB\u001b[0m \u001b[31m15.6 MB/s\u001b[0m eta \u001b[36m0:00:00\u001b[0m\n",
            "\u001b[?25hRequirement already satisfied: pandas in /usr/local/lib/python3.10/dist-packages (from datasets==1.18.3->bias-bench==0.1.0) (1.5.3)\n",
            "Requirement already satisfied: requests>=2.19.0 in /usr/local/lib/python3.10/dist-packages (from datasets==1.18.3->bias-bench==0.1.0) (2.27.1)\n",
            "Requirement already satisfied: tqdm>=4.62.1 in /usr/local/lib/python3.10/dist-packages (from datasets==1.18.3->bias-bench==0.1.0) (4.65.0)\n",
            "Collecting xxhash (from datasets==1.18.3->bias-bench==0.1.0)\n",
            "  Downloading xxhash-3.2.0-cp310-cp310-manylinux_2_17_x86_64.manylinux2014_x86_64.whl (212 kB)\n",
            "\u001b[2K     \u001b[90m━━━━━━━━━━━━━━━━━━━━━━━━━━━━━━━━━━━━━━\u001b[0m \u001b[32m212.5/212.5 kB\u001b[0m \u001b[31m24.3 MB/s\u001b[0m eta \u001b[36m0:00:00\u001b[0m\n",
            "\u001b[?25hCollecting multiprocess (from datasets==1.18.3->bias-bench==0.1.0)\n",
            "  Downloading multiprocess-0.70.14-py310-none-any.whl (134 kB)\n",
            "\u001b[2K     \u001b[90m━━━━━━━━━━━━━━━━━━━━━━━━━━━━━━━━━━━━━━\u001b[0m \u001b[32m134.3/134.3 kB\u001b[0m \u001b[31m17.0 MB/s\u001b[0m eta \u001b[36m0:00:00\u001b[0m\n",
            "\u001b[?25hRequirement already satisfied: fsspec[http]>=2021.05.0 in /usr/local/lib/python3.10/dist-packages (from datasets==1.18.3->bias-bench==0.1.0) (2023.4.0)\n",
            "Collecting aiohttp (from datasets==1.18.3->bias-bench==0.1.0)\n",
            "  Downloading aiohttp-3.8.4-cp310-cp310-manylinux_2_17_x86_64.manylinux2014_x86_64.whl (1.0 MB)\n",
            "\u001b[2K     \u001b[90m━━━━━━━━━━━━━━━━━━━━━━━━━━━━━━━━━━━━━━━━\u001b[0m \u001b[32m1.0/1.0 MB\u001b[0m \u001b[31m56.0 MB/s\u001b[0m eta \u001b[36m0:00:00\u001b[0m\n",
            "\u001b[?25hCollecting huggingface-hub<1.0.0,>=0.1.0 (from datasets==1.18.3->bias-bench==0.1.0)\n",
            "  Downloading huggingface_hub-0.14.1-py3-none-any.whl (224 kB)\n",
            "\u001b[2K     \u001b[90m━━━━━━━━━━━━━━━━━━━━━━━━━━━━━━━━━━━━━━\u001b[0m \u001b[32m224.5/224.5 kB\u001b[0m \u001b[31m25.3 MB/s\u001b[0m eta \u001b[36m0:00:00\u001b[0m\n",
            "\u001b[?25hRequirement already satisfied: packaging in /usr/local/lib/python3.10/dist-packages (from datasets==1.18.3->bias-bench==0.1.0) (23.1)\n",
            "Requirement already satisfied: click in /usr/local/lib/python3.10/dist-packages (from nltk==3.7.0->bias-bench==0.1.0) (8.1.3)\n",
            "Requirement already satisfied: joblib in /usr/local/lib/python3.10/dist-packages (from nltk==3.7.0->bias-bench==0.1.0) (1.2.0)\n",
            "Requirement already satisfied: regex>=2021.8.3 in /usr/local/lib/python3.10/dist-packages (from nltk==3.7.0->bias-bench==0.1.0) (2022.10.31)\n",
            "Requirement already satisfied: threadpoolctl>=2.0.0 in /usr/local/lib/python3.10/dist-packages (from scikit-learn==1.0.2->bias-bench==0.1.0) (3.1.0)\n",
            "Requirement already satisfied: typing-extensions in /usr/local/lib/python3.10/dist-packages (from torch==1.11.0->bias-bench==0.1.0) (4.5.0)\n",
            "Requirement already satisfied: filelock in /usr/local/lib/python3.10/dist-packages (from transformers==4.16.2->bias-bench==0.1.0) (3.12.0)\n",
            "Collecting sacremoses (from transformers==4.16.2->bias-bench==0.1.0)\n",
            "  Downloading sacremoses-0.0.53.tar.gz (880 kB)\n",
            "\u001b[2K     \u001b[90m━━━━━━━━━━━━━━━━━━━━━━━━━━━━━━━━━━━━━━\u001b[0m \u001b[32m880.6/880.6 kB\u001b[0m \u001b[31m63.0 MB/s\u001b[0m eta \u001b[36m0:00:00\u001b[0m\n",
            "\u001b[?25h  Preparing metadata (setup.py) ... \u001b[?25l\u001b[?25hdone\n",
            "Collecting tokenizers!=0.11.3,>=0.10.1 (from transformers==4.16.2->bias-bench==0.1.0)\n",
            "  Downloading tokenizers-0.13.3-cp310-cp310-manylinux_2_17_x86_64.manylinux2014_x86_64.whl (7.8 MB)\n",
            "\u001b[2K     \u001b[90m━━━━━━━━━━━━━━━━━━━━━━━━━━━━━━━━━━━━━━━━\u001b[0m \u001b[32m7.8/7.8 MB\u001b[0m \u001b[31m81.9 MB/s\u001b[0m eta \u001b[36m0:00:00\u001b[0m\n",
            "\u001b[?25hRequirement already satisfied: attrs>=17.3.0 in /usr/local/lib/python3.10/dist-packages (from aiohttp->datasets==1.18.3->bias-bench==0.1.0) (23.1.0)\n",
            "Requirement already satisfied: charset-normalizer<4.0,>=2.0 in /usr/local/lib/python3.10/dist-packages (from aiohttp->datasets==1.18.3->bias-bench==0.1.0) (2.0.12)\n",
            "Collecting multidict<7.0,>=4.5 (from aiohttp->datasets==1.18.3->bias-bench==0.1.0)\n",
            "  Downloading multidict-6.0.4-cp310-cp310-manylinux_2_17_x86_64.manylinux2014_x86_64.whl (114 kB)\n",
            "\u001b[2K     \u001b[90m━━━━━━━━━━━━━━━━━━━━━━━━━━━━━━━━━━━━━━\u001b[0m \u001b[32m114.5/114.5 kB\u001b[0m \u001b[31m12.6 MB/s\u001b[0m eta \u001b[36m0:00:00\u001b[0m\n",
            "\u001b[?25hCollecting async-timeout<5.0,>=4.0.0a3 (from aiohttp->datasets==1.18.3->bias-bench==0.1.0)\n",
            "  Downloading async_timeout-4.0.2-py3-none-any.whl (5.8 kB)\n",
            "Collecting yarl<2.0,>=1.0 (from aiohttp->datasets==1.18.3->bias-bench==0.1.0)\n",
            "  Downloading yarl-1.9.2-cp310-cp310-manylinux_2_17_x86_64.manylinux2014_x86_64.whl (268 kB)\n",
            "\u001b[2K     \u001b[90m━━━━━━━━━━━━━━━━━━━━━━━━━━━━━━━━━━━━━━\u001b[0m \u001b[32m268.8/268.8 kB\u001b[0m \u001b[31m31.1 MB/s\u001b[0m eta \u001b[36m0:00:00\u001b[0m\n",
            "\u001b[?25hCollecting frozenlist>=1.1.1 (from aiohttp->datasets==1.18.3->bias-bench==0.1.0)\n",
            "  Downloading frozenlist-1.3.3-cp310-cp310-manylinux_2_5_x86_64.manylinux1_x86_64.manylinux_2_17_x86_64.manylinux2014_x86_64.whl (149 kB)\n",
            "\u001b[2K     \u001b[90m━━━━━━━━━━━━━━━━━━━━━━━━━━━━━━━━━━━━━━\u001b[0m \u001b[32m149.6/149.6 kB\u001b[0m \u001b[31m19.2 MB/s\u001b[0m eta \u001b[36m0:00:00\u001b[0m\n",
            "\u001b[?25hCollecting aiosignal>=1.1.2 (from aiohttp->datasets==1.18.3->bias-bench==0.1.0)\n",
            "  Downloading aiosignal-1.3.1-py3-none-any.whl (7.6 kB)\n",
            "Requirement already satisfied: urllib3<1.27,>=1.21.1 in /usr/local/lib/python3.10/dist-packages (from requests>=2.19.0->datasets==1.18.3->bias-bench==0.1.0) (1.26.15)\n",
            "Requirement already satisfied: certifi>=2017.4.17 in /usr/local/lib/python3.10/dist-packages (from requests>=2.19.0->datasets==1.18.3->bias-bench==0.1.0) (2022.12.7)\n",
            "Requirement already satisfied: idna<4,>=2.5 in /usr/local/lib/python3.10/dist-packages (from requests>=2.19.0->datasets==1.18.3->bias-bench==0.1.0) (3.4)\n",
            "Requirement already satisfied: python-dateutil>=2.8.1 in /usr/local/lib/python3.10/dist-packages (from pandas->datasets==1.18.3->bias-bench==0.1.0) (2.8.2)\n",
            "Requirement already satisfied: pytz>=2020.1 in /usr/local/lib/python3.10/dist-packages (from pandas->datasets==1.18.3->bias-bench==0.1.0) (2022.7.1)\n",
            "Requirement already satisfied: six in /usr/local/lib/python3.10/dist-packages (from sacremoses->transformers==4.16.2->bias-bench==0.1.0) (1.16.0)\n",
            "Building wheels for collected packages: sacremoses\n",
            "  Building wheel for sacremoses (setup.py) ... \u001b[?25l\u001b[?25hdone\n",
            "  Created wheel for sacremoses: filename=sacremoses-0.0.53-py3-none-any.whl size=895259 sha256=174755216d6769202e7c18ac3995cf149c846d9dddc2e7beac0c2ee5245067c2\n",
            "  Stored in directory: /root/.cache/pip/wheels/00/24/97/a2ea5324f36bc626e1ea0267f33db6aa80d157ee977e9e42fb\n",
            "Successfully built sacremoses\n",
            "Installing collected packages: tokenizers, xxhash, torch, scipy, sacremoses, nltk, multidict, frozenlist, dill, async-timeout, yarl, scikit-learn, multiprocess, huggingface-hub, aiosignal, accelerate, transformers, aiohttp, datasets, bias-bench\n",
            "  Attempting uninstall: torch\n",
            "    Found existing installation: torch 2.0.0+cu118\n",
            "    Uninstalling torch-2.0.0+cu118:\n",
            "      Successfully uninstalled torch-2.0.0+cu118\n",
            "  Attempting uninstall: scipy\n",
            "    Found existing installation: scipy 1.10.1\n",
            "    Uninstalling scipy-1.10.1:\n",
            "      Successfully uninstalled scipy-1.10.1\n",
            "  Attempting uninstall: nltk\n",
            "    Found existing installation: nltk 3.8.1\n",
            "    Uninstalling nltk-3.8.1:\n",
            "      Successfully uninstalled nltk-3.8.1\n",
            "  Attempting uninstall: scikit-learn\n",
            "    Found existing installation: scikit-learn 1.2.2\n",
            "    Uninstalling scikit-learn-1.2.2:\n",
            "      Successfully uninstalled scikit-learn-1.2.2\n",
            "  Running setup.py develop for bias-bench\n",
            "\u001b[31mERROR: pip's dependency resolver does not currently take into account all the packages that are installed. This behaviour is the source of the following dependency conflicts.\n",
            "arviz 0.15.1 requires scipy>=1.8.0, but you have scipy 1.7.3 which is incompatible.\n",
            "torchaudio 2.0.1+cu118 requires torch==2.0.0, but you have torch 1.11.0 which is incompatible.\n",
            "torchdata 0.6.0 requires torch==2.0.0, but you have torch 1.11.0 which is incompatible.\n",
            "torchtext 0.15.1 requires torch==2.0.0, but you have torch 1.11.0 which is incompatible.\n",
            "torchvision 0.15.1+cu118 requires torch==2.0.0, but you have torch 1.11.0 which is incompatible.\u001b[0m\u001b[31m\n",
            "\u001b[0mSuccessfully installed accelerate-0.5.1 aiohttp-3.8.4 aiosignal-1.3.1 async-timeout-4.0.2 bias-bench-0.1.0 datasets-1.18.3 dill-0.3.6 frozenlist-1.3.3 huggingface-hub-0.14.1 multidict-6.0.4 multiprocess-0.70.14 nltk-3.7 sacremoses-0.0.53 scikit-learn-1.0.2 scipy-1.7.3 tokenizers-0.13.3 torch-1.11.0 transformers-4.16.2 xxhash-3.2.0 yarl-1.9.2\n"
          ]
        }
      ]
    },
    {
      "cell_type": "code",
      "source": [
        "#!cp gdrive/MyDrive/wikipedia-10.txt.zip bias-bench/data\n",
        "#!cp gdrive/MyDrive/wikipedia-2.5.txt.zip bias-bench/data\n",
        "!cd bias-bench/data && unzip wikipedia-10.txt.zip\n",
        "!cd bias-bench/data && unzip wikipedia-2.5.txt.zip\n",
        "\n",
        "!ls bias-bench/data"
      ],
      "metadata": {
        "colab": {
          "base_uri": "https://localhost:8080/"
        },
        "id": "dCR62NXbOFOn",
        "outputId": "8bb8ecfe-211d-43e7-d46d-4a0b1b3d02e1"
      },
      "execution_count": null,
      "outputs": [
        {
          "output_type": "stream",
          "name": "stdout",
          "text": [
            "unzip:  cannot find or open wikipedia-10.txt.zip, wikipedia-10.txt.zip.zip or wikipedia-10.txt.zip.ZIP.\n",
            "unzip:  cannot find or open wikipedia-2.5.txt.zip, wikipedia-2.5.txt.zip.zip or wikipedia-2.5.txt.zip.ZIP.\n",
            "bias_attribute_words.json  crows  seat\tstereoset\n"
          ]
        }
      ]
    },
    {
      "cell_type": "code",
      "source": [
        "!python3 bias-bench/experiments/stereoset.py --model BertForMaskedLM\n",
        "#!ls bias-bench/experiments"
      ],
      "metadata": {
        "colab": {
          "base_uri": "https://localhost:8080/"
        },
        "id": "15W9GiXxSHWI",
        "outputId": "3229ed7d-1689-4c89-9cb3-75575bb50e12"
      },
      "execution_count": null,
      "outputs": [
        {
          "output_type": "stream",
          "name": "stdout",
          "text": [
            "Running StereoSet:\n",
            " - persistent_dir: /content/bias-bench\n",
            " - model: BertForMaskedLM\n",
            " - model_name_or_path: bert-base-uncased\n",
            " - batch_size: 1\n",
            " - seed: None\n",
            "Downloading: 100% 570/570 [00:00<00:00, 630kB/s]\n",
            "Downloading: 100% 420M/420M [00:03<00:00, 114MB/s]\n",
            "Some weights of the model checkpoint at bert-base-uncased were not used when initializing BertForMaskedLM: ['cls.seq_relationship.bias', 'cls.seq_relationship.weight']\n",
            "- This IS expected if you are initializing BertForMaskedLM from the checkpoint of a model trained on another task or with another architecture (e.g. initializing a BertForSequenceClassification model from a BertForPreTraining model).\n",
            "- This IS NOT expected if you are initializing BertForMaskedLM from the checkpoint of a model that you expect to be exactly identical (initializing a BertForSequenceClassification model from a BertForSequenceClassification model).\n",
            "Downloading: 100% 28.0/28.0 [00:00<00:00, 37.2kB/s]\n",
            "Downloading: 100% 226k/226k [00:00<00:00, 28.2MB/s]\n",
            "Downloading: 100% 455k/455k [00:00<00:00, 55.1MB/s]\n",
            "Evaluating intrasentence task.\n",
            "2023-05-01 17:00:29.464354: I tensorflow/core/platform/cpu_feature_guard.cc:182] This TensorFlow binary is optimized to use available CPU instructions in performance-critical operations.\n",
            "To enable the following instructions: AVX2 FMA, in other operations, rebuild TensorFlow with the appropriate compiler flags.\n",
            "2023-05-01 17:00:31.697769: W tensorflow/compiler/tf2tensorrt/utils/py_utils.cc:38] TF-TRT Warning: Could not find TensorRT\n",
            "100% 24464/24464 [05:12<00:00, 78.24it/s]\n"
          ]
        }
      ]
    },
    {
      "cell_type": "code",
      "source": [
        "!ls bias-bench/results/stereoset\n",
        "!python3 bias-bench/experiments/stereoset_evaluation.py --predictions_dir bias-bench/results/stereoset --output_file out1.txt "
      ],
      "metadata": {
        "colab": {
          "base_uri": "https://localhost:8080/"
        },
        "id": "8LSt0B-3qXxB",
        "outputId": "2fb42afb-5bfe-4aed-f497-fac16bb03f77"
      },
      "execution_count": null,
      "outputs": [
        {
          "output_type": "stream",
          "name": "stdout",
          "text": [
            "stereoset_m-BertForMaskedLM_c-bert-base-uncased.json\n",
            "Evaluating StereoSet files:\n",
            " - predictions_file: None\n",
            " - predictions_dir: bias-bench/results/stereoset\n",
            " - output_file: out1.txt\n",
            "\n",
            "Evaluating bias-bench/results/stereoset/stereoset_m-BertForMaskedLM_c-bert-base-uncased.json...\n",
            "intrasentence\n",
            "\tgender\n",
            "\t\tCount: 2313.0\n",
            "\t\tLM Score: 85.73970402503635\n",
            "\t\tSS Score: 60.278684896276104\n",
            "\t\tICAT Score: 68.11387600956986\n",
            "\tprofession\n",
            "\t\tCount: 7194.0\n",
            "\t\tLM Score: 83.85202686230224\n",
            "\t\tSS Score: 58.93389453546499\n",
            "\t\tICAT Score: 68.86952357084654\n",
            "\trace\n",
            "\t\tCount: 8928.0\n",
            "\t\tLM Score: 84.00827460718995\n",
            "\t\tSS Score: 57.02967880452161\n",
            "\t\tICAT Score: 72.19725085897807\n",
            "\treligion\n",
            "\t\tCount: 741.0\n",
            "\t\tLM Score: 84.21150995925436\n",
            "\t\tSS Score: 59.70419362150916\n",
            "\t\tICAT Score: 67.86741400316933\n",
            "\toverall\n",
            "\t\tCount: 6392.0\n",
            "\t\tLM Score: 84.17236429175225\n",
            "\t\tSS Score: 58.24009298588702\n",
            "\t\tICAT Score: 70.30060211963236\n",
            "overall\n",
            "\tCount: 6392.0\n",
            "\tLM Score: 84.17236429175225\n",
            "\tSS Score: 58.24009298588702\n",
            "\tICAT Score: 70.30060211963236\n"
          ]
        }
      ]
    },
    {
      "cell_type": "code",
      "source": [
        "!python3 bias-bench/experiments/stereoset.py --model AlbertForMaskedLM --model_name_or_path albert-base-v2"
      ],
      "metadata": {
        "colab": {
          "base_uri": "https://localhost:8080/"
        },
        "id": "FL0WR-_ltvEX",
        "outputId": "f8849f09-ed88-4372-c9c4-9b41af93f813"
      },
      "execution_count": null,
      "outputs": [
        {
          "output_type": "stream",
          "name": "stdout",
          "text": [
            "Running StereoSet:\n",
            " - persistent_dir: /content/bias-bench\n",
            " - model: AlbertForMaskedLM\n",
            " - model_name_or_path: albert-base-v2\n",
            " - batch_size: 1\n",
            " - seed: None\n",
            "Downloading: 100% 684/684 [00:00<00:00, 484kB/s]\n",
            "Downloading: 100% 45.2M/45.2M [00:00<00:00, 59.6MB/s]\n",
            "Downloading: 100% 742k/742k [00:00<00:00, 894kB/s]\n",
            "Downloading: 100% 1.25M/1.25M [00:01<00:00, 1.25MB/s]\n",
            "Evaluating intrasentence task.\n",
            "2023-04-26 18:17:29.266548: I tensorflow/core/platform/cpu_feature_guard.cc:182] This TensorFlow binary is optimized to use available CPU instructions in performance-critical operations.\n",
            "To enable the following instructions: AVX2 AVX512F FMA, in other operations, rebuild TensorFlow with the appropriate compiler flags.\n",
            "2023-04-26 18:17:30.490430: W tensorflow/compiler/tf2tensorrt/utils/py_utils.cc:38] TF-TRT Warning: Could not find TensorRT\n",
            "100% 24217/24217 [04:47<00:00, 84.37it/s] \n"
          ]
        }
      ]
    },
    {
      "cell_type": "code",
      "source": [
        "!ls bias-bench/results/stereoset\n",
        "!python3 bias-bench/experiments/stereoset_evaluation.py --predictions_file bias-bench/results/stereoset/stereoset_m-AlbertForMaskedLM_c-albert-base-v2.json --output_file out2.txt "
      ],
      "metadata": {
        "colab": {
          "base_uri": "https://localhost:8080/"
        },
        "id": "aozr7BwozczY",
        "outputId": "97480f07-bae9-435d-8e4b-11a41bade226"
      },
      "execution_count": null,
      "outputs": [
        {
          "output_type": "stream",
          "name": "stdout",
          "text": [
            "stereoset_m-AlbertForMaskedLM_c-albert-base-v2.json\n",
            "stereoset_m-BertForMaskedLM_c-bert-base-uncased.json\n",
            "Evaluating StereoSet files:\n",
            " - predictions_file: bias-bench/results/stereoset/stereoset_m-AlbertForMaskedLM_c-albert-base-v2.json\n",
            " - predictions_dir: None\n",
            " - output_file: out2.txt\n",
            "intrasentence\n",
            "\tgender\n",
            "\t\tCount: 2313.0\n",
            "\t\tLM Score: 89.34724209887877\n",
            "\t\tSS Score: 59.93052167999695\n",
            "\t\tICAT Score: 71.60194760466173\n",
            "\tprofession\n",
            "\t\tCount: 7194.0\n",
            "\t\tLM Score: 88.99877527050727\n",
            "\t\tSS Score: 60.39413028956939\n",
            "\t\tICAT Score: 70.49747795503208\n",
            "\trace\n",
            "\t\tCount: 8928.0\n",
            "\t\tLM Score: 90.2536318039791\n",
            "\t\tSS Score: 57.507842756335904\n",
            "\t\tICAT Score: 76.70143028852885\n",
            "\treligion\n",
            "\t\tCount: 741.0\n",
            "\t\tLM Score: 92.73233301165573\n",
            "\t\tSS Score: 60.321871420623125\n",
            "\t\tICAT Score: 73.58890865404142\n",
            "\toverall\n",
            "\t\tCount: 6392.0\n",
            "\t\tLM Score: 89.76677036473781\n",
            "\t\tSS Score: 58.98624153187074\n",
            "\t\tICAT Score: 73.63345276406761\n",
            "overall\n",
            "\tCount: 6392.0\n",
            "\tLM Score: 89.76677036473781\n",
            "\tSS Score: 58.98624153187074\n",
            "\tICAT Score: 73.63345276406761\n"
          ]
        }
      ]
    },
    {
      "cell_type": "code",
      "source": [
        "!python3 bias-bench/experiments/stereoset.py --model RobertaForMaskedLM --model_name_or_path roberta-base"
      ],
      "metadata": {
        "colab": {
          "base_uri": "https://localhost:8080/"
        },
        "id": "PCObGj9_0hm5",
        "outputId": "068acfe5-a084-48d5-dca9-3b2517d2ae53"
      },
      "execution_count": null,
      "outputs": [
        {
          "output_type": "stream",
          "name": "stdout",
          "text": [
            "Running StereoSet:\n",
            " - persistent_dir: /content/bias-bench\n",
            " - model: RobertaForMaskedLM\n",
            " - model_name_or_path: roberta-base\n",
            " - batch_size: 1\n",
            " - seed: None\n",
            "Downloading: 100% 481/481 [00:00<00:00, 541kB/s]\n",
            "Downloading: 100% 478M/478M [00:08<00:00, 57.0MB/s]\n",
            "Downloading: 100% 878k/878k [00:00<00:00, 25.5MB/s]\n",
            "Downloading: 100% 446k/446k [00:00<00:00, 1.07MB/s]\n",
            "Downloading: 100% 1.29M/1.29M [00:00<00:00, 5.91MB/s]\n",
            "Evaluating intrasentence task.\n",
            "2023-04-26 18:36:12.604371: I tensorflow/core/platform/cpu_feature_guard.cc:182] This TensorFlow binary is optimized to use available CPU instructions in performance-critical operations.\n",
            "To enable the following instructions: AVX2 AVX512F FMA, in other operations, rebuild TensorFlow with the appropriate compiler flags.\n",
            "2023-04-26 18:36:13.758538: W tensorflow/compiler/tf2tensorrt/utils/py_utils.cc:38] TF-TRT Warning: Could not find TensorRT\n",
            "100% 23941/23941 [04:54<00:00, 81.28it/s]\n"
          ]
        }
      ]
    },
    {
      "cell_type": "code",
      "source": [
        "!ls bias-bench/results/stereoset\n",
        "!python3 bias-bench/experiments/stereoset_evaluation.py --predictions_file bias-bench/results/stereoset/stereoset_m-RobertaForMaskedLM_c-roberta-base.json --output_file out3.txt "
      ],
      "metadata": {
        "colab": {
          "base_uri": "https://localhost:8080/"
        },
        "id": "_DV-Jz-c_9ko",
        "outputId": "43cc134e-c9d4-4edd-dd72-bcfbbe36bbb9"
      },
      "execution_count": null,
      "outputs": [
        {
          "output_type": "stream",
          "name": "stdout",
          "text": [
            "stereoset_m-AlbertForMaskedLM_c-albert-base-v2.json\n",
            "stereoset_m-BertForMaskedLM_c-bert-base-uncased.json\n",
            "stereoset_m-RobertaForMaskedLM_c-roberta-base.json\n",
            "Evaluating StereoSet files:\n",
            " - predictions_file: bias-bench/results/stereoset/stereoset_m-RobertaForMaskedLM_c-roberta-base.json\n",
            " - predictions_dir: None\n",
            " - output_file: out3.txt\n",
            "intrasentence\n",
            "\tgender\n",
            "\t\tCount: 2313.0\n",
            "\t\tLM Score: 89.79372775548435\n",
            "\t\tSS Score: 66.32296319557689\n",
            "\t\tICAT Score: 60.479733488555915\n",
            "\tprofession\n",
            "\t\tCount: 7194.0\n",
            "\t\tLM Score: 87.47715350279888\n",
            "\t\tSS Score: 61.46692360958856\n",
            "\t\tICAT Score: 67.41527676678193\n",
            "\trace\n",
            "\t\tCount: 8928.0\n",
            "\t\tLM Score: 89.92745575387676\n",
            "\t\tSS Score: 61.674303732750964\n",
            "\t\tICAT Score: 68.93064710619115\n",
            "\treligion\n",
            "\t\tCount: 741.0\n",
            "\t\tLM Score: 88.03081934338886\n",
            "\t\tSS Score: 64.2778194811318\n",
            "\t\tICAT Score: 62.89305639616823\n",
            "\toverall\n",
            "\t\tCount: 6392.0\n",
            "\t\tLM Score: 88.92907240576449\n",
            "\t\tSS Score: 62.27028395810464\n",
            "\t\tICAT Score: 67.10537299477292\n",
            "overall\n",
            "\tCount: 6392.0\n",
            "\tLM Score: 88.92907240576449\n",
            "\tSS Score: 62.27028395810464\n",
            "\tICAT Score: 67.10537299477292\n"
          ]
        }
      ]
    },
    {
      "cell_type": "code",
      "source": [
        "!python3 bias-bench/experiments/stereoset.py --model GPT2LMHeadModel --model_name_or_path gpt2"
      ],
      "metadata": {
        "id": "Bc-1AlqCKYo7",
        "colab": {
          "base_uri": "https://localhost:8080/"
        },
        "outputId": "e163efad-4408-47aa-ae90-b9c4b61842df"
      },
      "execution_count": null,
      "outputs": [
        {
          "output_type": "stream",
          "name": "stdout",
          "text": [
            "Running StereoSet:\n",
            " - persistent_dir: /content/bias-bench\n",
            " - model: GPT2LMHeadModel\n",
            " - model_name_or_path: gpt2\n",
            " - batch_size: 1\n",
            " - seed: None\n",
            "Downloading: 100% 665/665 [00:00<00:00, 605kB/s]\n",
            "Downloading: 100% 523M/523M [00:16<00:00, 33.9MB/s]\n",
            "Downloading: 100% 0.99M/0.99M [00:00<00:00, 15.6MB/s]\n",
            "Downloading: 100% 446k/446k [00:00<00:00, 11.5MB/s]\n",
            "Downloading: 100% 1.29M/1.29M [00:00<00:00, 19.4MB/s]\n",
            "Using mask_token, but it is not set yet.\n",
            "Evaluating intrasentence task.\n",
            "100% 6392/6392 [43:22<00:00,  2.46it/s]\n"
          ]
        }
      ]
    },
    {
      "cell_type": "code",
      "source": [
        "!ls bias-bench/results/stereoset\n",
        "!python3 bias-bench/experiments/stereoset_evaluation.py --predictions_file bias-bench/results/stereoset/stereoset_m-GPT2LMHeadModel_c-gpt2.json --output_file out4!.txt "
      ],
      "metadata": {
        "colab": {
          "base_uri": "https://localhost:8080/"
        },
        "id": "PT1WxZnzfKO6",
        "outputId": "25522db6-9da3-4140-c83e-529795dd4e7a"
      },
      "execution_count": null,
      "outputs": [
        {
          "output_type": "stream",
          "name": "stdout",
          "text": [
            "stereoset_m-GPT2LMHeadModel_c-gpt2.json\n",
            "Evaluating StereoSet files:\n",
            " - predictions_file: bias-bench/results/stereoset/stereoset_m-GPT2LMHeadModel_c-gpt2.json\n",
            " - predictions_dir: None\n",
            " - output_file: out4!.txt\n",
            "intrasentence\n",
            "\tgender\n",
            "\t\tCount: 2313.0\n",
            "\t\tLM Score: 92.01218436319637\n",
            "\t\tSS Score: 62.6460866303445\n",
            "\t\tICAT Score: 68.74030327311215\n",
            "\tprofession\n",
            "\t\tCount: 7194.0\n",
            "\t\tLM Score: 90.74056951271717\n",
            "\t\tSS Score: 61.305512436683145\n",
            "\t\tICAT Score: 70.22319676996246\n",
            "\trace\n",
            "\t\tCount: 8928.0\n",
            "\t\tLM Score: 90.9524178709514\n",
            "\t\tSS Score: 58.904167347320374\n",
            "\t\tICAT Score: 74.75530688362413\n",
            "\treligion\n",
            "\t\tCount: 741.0\n",
            "\t\tLM Score: 91.20561944224038\n",
            "\t\tSS Score: 63.260092672402635\n",
            "\t\tICAT Score: 67.01772012128048\n",
            "\toverall\n",
            "\t\tCount: 6392.0\n",
            "\t\tLM Score: 91.01442389024014\n",
            "\t\tSS Score: 60.42310108475473\n",
            "\t\tICAT Score: 72.04137308266637\n",
            "overall\n",
            "\tCount: 6392.0\n",
            "\tLM Score: 91.01442389024014\n",
            "\tSS Score: 60.42310108475473\n",
            "\tICAT Score: 72.04137308266637\n"
          ]
        }
      ]
    },
    {
      "cell_type": "code",
      "source": [
        "!python3 bias-bench/experiments/stereoset.py --model OpenAIGPTLMHeadModel"
      ],
      "metadata": {
        "colab": {
          "base_uri": "https://localhost:8080/"
        },
        "id": "0oRRu8ZiSGKM",
        "outputId": "63400d15-ef7c-48c2-df6d-22e29c69228d"
      },
      "execution_count": null,
      "outputs": [
        {
          "output_type": "stream",
          "name": "stdout",
          "text": [
            "Running StereoSet:\n",
            " - persistent_dir: /content/bias-bench\n",
            " - model: OpenAIGPTLMHeadModel\n",
            " - model_name_or_path: bert-base-uncased\n",
            " - batch_size: 1\n",
            " - seed: None\n",
            "Some weights of OpenAIGPTLMHeadModel were not initialized from the model checkpoint at openai-gpt and are newly initialized: ['lm_head.weight']\n",
            "You should probably TRAIN this model on a down-stream task to be able to use it for predictions and inference.\n",
            "Evaluating intrasentence task.\n",
            "2023-04-28 17:59:44.458500: I tensorflow/core/platform/cpu_feature_guard.cc:182] This TensorFlow binary is optimized to use available CPU instructions in performance-critical operations.\n",
            "To enable the following instructions: AVX2 FMA, in other operations, rebuild TensorFlow with the appropriate compiler flags.\n",
            "2023-04-28 17:59:45.635188: W tensorflow/compiler/tf2tensorrt/utils/py_utils.cc:38] TF-TRT Warning: Could not find TensorRT\n",
            "100% 24464/24464 [04:48<00:00, 84.68it/s]\n"
          ]
        }
      ]
    },
    {
      "cell_type": "code",
      "source": [
        "!ls bias-bench/results/stereoset\n",
        "!python3 bias-bench/experiments/stereoset_evaluation.py --predictions_file bias-bench/results/stereoset/stereoset_m-OpenAIGPTLMHeadModel_c-bert-base-uncased.json --output_file out5!.txt "
      ],
      "metadata": {
        "colab": {
          "base_uri": "https://localhost:8080/"
        },
        "id": "T3jUBZZVCpP_",
        "outputId": "c64c3bd5-5d15-4183-8c1b-7524318f38b8"
      },
      "execution_count": null,
      "outputs": [
        {
          "output_type": "stream",
          "name": "stdout",
          "text": [
            "stereoset_m-BertForMaskedLM_c-bert-base-uncased.json\n",
            "stereoset_m-OpenAIGPTLMHeadModel_c-bert-base-uncased.json\n",
            "Evaluating StereoSet files:\n",
            " - predictions_file: bias-bench/results/stereoset/stereoset_m-OpenAIGPTLMHeadModel_c-bert-base-uncased.json\n",
            " - predictions_dir: None\n",
            " - output_file: out5!.txt\n",
            "intrasentence\n",
            "\tgender\n",
            "\t\tCount: 2313.0\n",
            "\t\tLM Score: 47.08862269433233\n",
            "\t\tSS Score: 47.51337831842578\n",
            "\t\tICAT Score: 44.746790891388436\n",
            "\tprofession\n",
            "\t\tCount: 7194.0\n",
            "\t\tLM Score: 47.63707792100128\n",
            "\t\tSS Score: 49.98393111038321\n",
            "\t\tICAT Score: 47.6217684220657\n",
            "\trace\n",
            "\t\tCount: 8928.0\n",
            "\t\tLM Score: 46.20156550904911\n",
            "\t\tSS Score: 48.66210630500587\n",
            "\t\tICAT Score: 44.96530984518081\n",
            "\treligion\n",
            "\t\tCount: 741.0\n",
            "\t\tLM Score: 50.0360297063424\n",
            "\t\tSS Score: 52.04092290978954\n",
            "\t\tICAT Score: 47.99363611949071\n",
            "\toverall\n",
            "\t\tCount: 6392.0\n",
            "\t\tLM Score: 46.98800356859387\n",
            "\t\tSS Score: 49.136948215458816\n",
            "\t\tICAT Score: 46.17694196195582\n",
            "overall\n",
            "\tCount: 6392.0\n",
            "\tLM Score: 46.98800356859387\n",
            "\tSS Score: 49.136948215458816\n",
            "\tICAT Score: 46.17694196195582\n"
          ]
        }
      ]
    },
    {
      "cell_type": "code",
      "source": [
        "!python3 bias-bench/experiments/stereoset.py --model BartForCausalLM"
      ],
      "metadata": {
        "colab": {
          "base_uri": "https://localhost:8080/"
        },
        "id": "NqP6wvsGEbGE",
        "outputId": "b3c3d2ce-e20a-45d9-f6fe-76cea728c2f8"
      },
      "execution_count": null,
      "outputs": [
        {
          "output_type": "stream",
          "name": "stdout",
          "text": [
            "Running StereoSet:\n",
            " - persistent_dir: /content/bias-bench\n",
            " - model: BartForCausalLM\n",
            " - model_name_or_path: bert-base-uncased\n",
            " - batch_size: 1\n",
            " - seed: None\n",
            "Some weights of the model checkpoint at facebook/bart-base were not used when initializing BartForCausalLM: ['encoder.layers.0.self_attn.q_proj.bias', 'encoder.layers.5.final_layer_norm.weight', 'encoder.layers.4.fc1.bias', 'encoder.layers.1.fc1.bias', 'encoder.layers.4.self_attn.q_proj.bias', 'encoder.layers.2.final_layer_norm.bias', 'encoder.layers.4.fc2.weight', 'encoder.layers.1.self_attn.out_proj.weight', 'encoder.layers.0.self_attn.out_proj.weight', 'encoder.layers.1.self_attn.v_proj.weight', 'encoder.layers.5.fc1.weight', 'encoder.layers.1.self_attn_layer_norm.weight', 'encoder.layers.2.self_attn.k_proj.weight', 'encoder.layers.1.self_attn.k_proj.bias', 'encoder.layers.5.self_attn.out_proj.bias', 'encoder.layers.5.self_attn.k_proj.bias', 'encoder.layers.0.final_layer_norm.bias', 'encoder.layers.5.self_attn.v_proj.bias', 'encoder.layers.0.fc1.weight', 'encoder.layers.4.self_attn.v_proj.weight', 'encoder.layers.3.self_attn.v_proj.weight', 'encoder.layers.1.final_layer_norm.weight', 'encoder.layers.2.final_layer_norm.weight', 'encoder.layers.2.self_attn.out_proj.weight', 'encoder.layers.2.fc1.bias', 'encoder.layers.5.self_attn.q_proj.bias', 'encoder.layers.5.self_attn.k_proj.weight', 'encoder.layers.4.self_attn_layer_norm.weight', 'encoder.layers.5.fc2.bias', 'encoder.layers.3.self_attn.q_proj.weight', 'encoder.layers.3.fc1.bias', 'encoder.layers.0.self_attn.out_proj.bias', 'encoder.embed_tokens.weight', 'encoder.layers.0.self_attn_layer_norm.weight', 'encoder.layers.3.fc1.weight', 'encoder.layernorm_embedding.weight', 'encoder.layers.1.fc2.weight', 'encoder.layers.5.self_attn.out_proj.weight', 'encoder.layers.3.self_attn_layer_norm.weight', 'encoder.layers.4.final_layer_norm.bias', 'encoder.layers.0.self_attn.k_proj.bias', 'encoder.layers.0.fc1.bias', 'encoder.layers.0.fc2.bias', 'encoder.layers.2.fc1.weight', 'encoder.layers.0.self_attn.k_proj.weight', 'encoder.layers.3.self_attn.out_proj.bias', 'encoder.layers.2.self_attn.v_proj.bias', 'encoder.layers.2.self_attn.v_proj.weight', 'encoder.layers.0.final_layer_norm.weight', 'encoder.layers.1.final_layer_norm.bias', 'encoder.layers.1.self_attn.q_proj.bias', 'encoder.layers.4.final_layer_norm.weight', 'encoder.layers.1.self_attn.q_proj.weight', 'encoder.layers.5.self_attn.q_proj.weight', 'encoder.layers.3.self_attn_layer_norm.bias', 'encoder.layers.5.self_attn_layer_norm.bias', 'encoder.layers.4.fc2.bias', 'encoder.layers.5.self_attn_layer_norm.weight', 'encoder.layers.4.self_attn.out_proj.weight', 'encoder.layers.2.self_attn_layer_norm.weight', 'encoder.layers.1.self_attn.k_proj.weight', 'encoder.layers.3.self_attn.k_proj.bias', 'encoder.embed_positions.weight', 'encoder.layers.2.fc2.weight', 'encoder.layers.5.self_attn.v_proj.weight', 'encoder.layers.3.self_attn.out_proj.weight', 'encoder.layers.3.self_attn.k_proj.weight', 'encoder.layers.4.self_attn.k_proj.weight', 'encoder.layers.4.self_attn.v_proj.bias', 'encoder.layers.0.self_attn.q_proj.weight', 'encoder.layers.2.self_attn_layer_norm.bias', 'encoder.layers.5.final_layer_norm.bias', 'shared.weight', 'encoder.layers.4.self_attn_layer_norm.bias', 'encoder.layers.4.self_attn.k_proj.bias', 'encoder.layers.0.self_attn_layer_norm.bias', 'encoder.layers.4.self_attn.out_proj.bias', 'encoder.layers.5.fc1.bias', 'encoder.layers.1.fc2.bias', 'encoder.layers.1.self_attn.out_proj.bias', 'encoder.layers.2.self_attn.k_proj.bias', 'encoder.layers.0.fc2.weight', 'encoder.layers.4.self_attn.q_proj.weight', 'encoder.layers.3.fc2.bias', 'encoder.layers.2.self_attn.out_proj.bias', 'encoder.layers.2.fc2.bias', 'encoder.layers.2.self_attn.q_proj.weight', 'encoder.layers.1.fc1.weight', 'encoder.layers.0.self_attn.v_proj.bias', 'encoder.layers.5.fc2.weight', 'encoder.layers.3.final_layer_norm.weight', 'encoder.layers.1.self_attn.v_proj.bias', 'encoder.layers.3.final_layer_norm.bias', 'encoder.layers.0.self_attn.v_proj.weight', 'encoder.layers.3.self_attn.q_proj.bias', 'encoder.layers.1.self_attn_layer_norm.bias', 'encoder.layers.3.self_attn.v_proj.bias', 'encoder.layernorm_embedding.bias', 'encoder.layers.2.self_attn.q_proj.bias', 'encoder.layers.3.fc2.weight', 'encoder.layers.4.fc1.weight']\n",
            "- This IS expected if you are initializing BartForCausalLM from the checkpoint of a model trained on another task or with another architecture (e.g. initializing a BertForSequenceClassification model from a BertForPreTraining model).\n",
            "- This IS NOT expected if you are initializing BartForCausalLM from the checkpoint of a model that you expect to be exactly identical (initializing a BertForSequenceClassification model from a BertForSequenceClassification model).\n",
            "Some weights of BartForCausalLM were not initialized from the model checkpoint at facebook/bart-base and are newly initialized: ['lm_head.weight']\n",
            "You should probably TRAIN this model on a down-stream task to be able to use it for predictions and inference.\n",
            "Evaluating intrasentence task.\n",
            "2023-04-28 18:21:17.950463: I tensorflow/core/platform/cpu_feature_guard.cc:182] This TensorFlow binary is optimized to use available CPU instructions in performance-critical operations.\n",
            "To enable the following instructions: AVX2 FMA, in other operations, rebuild TensorFlow with the appropriate compiler flags.\n",
            "2023-04-28 18:21:19.125687: W tensorflow/compiler/tf2tensorrt/utils/py_utils.cc:38] TF-TRT Warning: Could not find TensorRT\n",
            "100% 24464/24464 [02:54<00:00, 140.36it/s]\n"
          ]
        }
      ]
    },
    {
      "cell_type": "code",
      "source": [
        "!ls bias-bench/results/stereoset\n",
        "!python3 bias-bench/experiments/stereoset_evaluation.py --predictions_file bias-bench/results/stereoset/stereoset_m-BartForCausalLM_c-bert-base-uncased.json --output_file out5!.txt "
      ],
      "metadata": {
        "colab": {
          "base_uri": "https://localhost:8080/"
        },
        "id": "dkL6um8xG_ie",
        "outputId": "4e453054-e03e-4b2a-e5e9-b9e3e47fd983"
      },
      "execution_count": null,
      "outputs": [
        {
          "output_type": "stream",
          "name": "stdout",
          "text": [
            "stereoset_m-BartForCausalLM_c-bert-base-uncased.json\n",
            "stereoset_m-BertForMaskedLM_c-bert-base-uncased.json\n",
            "stereoset_m-OpenAIGPTLMHeadModel_c-bert-base-uncased.json\n",
            "Evaluating StereoSet files:\n",
            " - predictions_file: bias-bench/results/stereoset/stereoset_m-BartForCausalLM_c-bert-base-uncased.json\n",
            " - predictions_dir: None\n",
            " - output_file: out5!.txt\n",
            "intrasentence\n",
            "\tgender\n",
            "\t\tCount: 2313.0\n",
            "\t\tLM Score: 48.16787665801908\n",
            "\t\tSS Score: 44.65292813411252\n",
            "\t\tICAT Score: 43.01673469566644\n",
            "\tprofession\n",
            "\t\tCount: 7194.0\n",
            "\t\tLM Score: 51.947039412010824\n",
            "\t\tSS Score: 49.82130010973493\n",
            "\t\tICAT Score: 51.76138080716039\n",
            "\trace\n",
            "\t\tCount: 8928.0\n",
            "\t\tLM Score: 50.403790916227145\n",
            "\t\tSS Score: 48.21325492530406\n",
            "\t\tICAT Score: 48.60261641291569\n",
            "\treligion\n",
            "\t\tCount: 741.0\n",
            "\t\tLM Score: 52.153402324889164\n",
            "\t\tSS Score: 50.6386528324484\n",
            "\t\tICAT Score: 51.48724396255694\n",
            "\toverall\n",
            "\t\tCount: 6392.0\n",
            "\t\tLM Score: 50.76561504660834\n",
            "\t\tSS Score: 48.46012618161535\n",
            "\t\tICAT Score: 49.202162216919014\n",
            "overall\n",
            "\tCount: 6392.0\n",
            "\tLM Score: 50.76561504660834\n",
            "\tSS Score: 48.46012618161535\n",
            "\tICAT Score: 49.202162216919014\n"
          ]
        }
      ]
    },
    {
      "cell_type": "code",
      "source": [
        "!python3 bias-bench/experiments/stereoset.py --model BigBirdForMaskedLM --model_name_or_path roberta-base"
      ],
      "metadata": {
        "colab": {
          "base_uri": "https://localhost:8080/"
        },
        "id": "fgbtu9fKHhI8",
        "outputId": "365e48a9-f8a7-449b-9867-a9bc45fefefe"
      },
      "execution_count": null,
      "outputs": [
        {
          "output_type": "stream",
          "name": "stdout",
          "text": [
            "Running StereoSet:\n",
            " - persistent_dir: /content/bias-bench\n",
            " - model: BigBirdForMaskedLM\n",
            " - model_name_or_path: roberta-base\n",
            " - batch_size: 1\n",
            " - seed: None\n",
            "Downloading: 100% 760/760 [00:00<00:00, 850kB/s]\n",
            "Downloading: 100% 489M/489M [00:33<00:00, 15.2MB/s]\n",
            "Some weights of the model checkpoint at google/bigbird-roberta-base were not used when initializing BigBirdForMaskedLM: ['cls.seq_relationship.weight', 'cls.seq_relationship.bias']\n",
            "- This IS expected if you are initializing BigBirdForMaskedLM from the checkpoint of a model trained on another task or with another architecture (e.g. initializing a BertForSequenceClassification model from a BertForPreTraining model).\n",
            "- This IS NOT expected if you are initializing BigBirdForMaskedLM from the checkpoint of a model that you expect to be exactly identical (initializing a BertForSequenceClassification model from a BertForSequenceClassification model).\n",
            "Downloading: 100% 481/481 [00:00<00:00, 329kB/s]\n",
            "Downloading: 100% 878k/878k [00:00<00:00, 4.56MB/s]\n",
            "Downloading: 100% 446k/446k [00:00<00:00, 2.87MB/s]\n",
            "Downloading: 100% 1.29M/1.29M [00:00<00:00, 6.06MB/s]\n",
            "Evaluating intrasentence task.\n",
            "2023-04-28 18:40:06.126384: I tensorflow/core/platform/cpu_feature_guard.cc:182] This TensorFlow binary is optimized to use available CPU instructions in performance-critical operations.\n",
            "To enable the following instructions: AVX2 FMA, in other operations, rebuild TensorFlow with the appropriate compiler flags.\n",
            "2023-04-28 18:40:07.248354: W tensorflow/compiler/tf2tensorrt/utils/py_utils.cc:38] TF-TRT Warning: Could not find TensorRT\n",
            "  0% 0/23941 [00:00<?, ?it/s]Attention type 'block_sparse' is not possible if sequence_length: 6 <= num global tokens: 2 * config.block_size + min. num sliding tokens: 3 * config.block_size + config.num_random_blocks * config.block_size + additional buffer: config.num_random_blocks * config.block_size = 704 with config.block_size = 64, config.num_random_blocks = 3. Changing attention type to 'original_full'...\n",
            "100% 23941/23941 [05:28<00:00, 72.84it/s]\n"
          ]
        }
      ]
    },
    {
      "cell_type": "code",
      "source": [
        "!ls bias-bench/results/stereoset\n",
        "!python3 bias-bench/experiments/stereoset_evaluation.py --predictions_file bias-bench/results/stereoset/stereoset_m-BigBirdForMaskedLM_c-roberta-base.json --output_file out6!.txt "
      ],
      "metadata": {
        "colab": {
          "base_uri": "https://localhost:8080/"
        },
        "id": "lKDwztjWL44o",
        "outputId": "9bba159f-b849-46ea-8c12-0dfe39beff3b"
      },
      "execution_count": null,
      "outputs": [
        {
          "output_type": "stream",
          "name": "stdout",
          "text": [
            "stereoset_m-BartForCausalLM_c-bert-base-uncased.json\n",
            "stereoset_m-BertForMaskedLM_c-bert-base-uncased.json\n",
            "stereoset_m-BigBirdForMaskedLM_c-roberta-base.json\n",
            "stereoset_m-OpenAIGPTLMHeadModel_c-bert-base-uncased.json\n",
            "Evaluating StereoSet files:\n",
            " - predictions_file: bias-bench/results/stereoset/stereoset_m-BigBirdForMaskedLM_c-roberta-base.json\n",
            " - predictions_dir: None\n",
            " - output_file: out6!.txt\n",
            "intrasentence\n",
            "\tgender\n",
            "\t\tCount: 2313.0\n",
            "\t\tLM Score: 53.1429421560356\n",
            "\t\tSS Score: 51.62867299468999\n",
            "\t\tICAT Score: 51.411892661077445\n",
            "\tprofession\n",
            "\t\tCount: 7194.0\n",
            "\t\tLM Score: 49.406936316136694\n",
            "\t\tSS Score: 49.01592619125062\n",
            "\t\tICAT Score: 48.43453487615152\n",
            "\trace\n",
            "\t\tCount: 8928.0\n",
            "\t\tLM Score: 49.70348249752527\n",
            "\t\tSS Score: 47.99400672949324\n",
            "\t\tICAT Score: 47.70938546930955\n",
            "\treligion\n",
            "\t\tCount: 741.0\n",
            "\t\tLM Score: 46.6868929419912\n",
            "\t\tSS Score: 46.0334150576395\n",
            "\t\tICAT Score: 42.983142411005225\n",
            "\toverall\n",
            "\t\tCount: 6392.0\n",
            "\t\tLM Score: 49.90738880922168\n",
            "\t\tSS Score: 48.75172331820144\n",
            "\t\tICAT Score: 48.661424215221565\n",
            "overall\n",
            "\tCount: 6392.0\n",
            "\tLM Score: 49.90738880922168\n",
            "\tSS Score: 48.75172331820144\n",
            "\tICAT Score: 48.661424215221565\n"
          ]
        }
      ]
    },
    {
      "cell_type": "code",
      "source": [
        "!python3 bias-bench/experiments/stereoset.py --model SqueezeBertForMaskedLM "
      ],
      "metadata": {
        "colab": {
          "base_uri": "https://localhost:8080/"
        },
        "id": "VwEDSSLhOXXx",
        "outputId": "5b99fdb9-d1c1-4ad1-87d3-53026cb55bbf"
      },
      "execution_count": null,
      "outputs": [
        {
          "output_type": "stream",
          "name": "stdout",
          "text": [
            "Running StereoSet:\n",
            " - persistent_dir: /content/bias-bench\n",
            " - model: SqueezeBertForMaskedLM\n",
            " - model_name_or_path: bert-base-uncased\n",
            " - batch_size: 1\n",
            " - seed: None\n",
            "Downloading: 100% 500/500 [00:00<00:00, 463kB/s]\n",
            "Downloading: 100% 98.7M/98.7M [00:00<00:00, 117MB/s]\n",
            "Some weights of the model checkpoint at squeezebert/squeezebert-uncased were not used when initializing SqueezeBertForMaskedLM: ['cls.seq_relationship.weight', 'cls.seq_relationship.bias']\n",
            "- This IS expected if you are initializing SqueezeBertForMaskedLM from the checkpoint of a model trained on another task or with another architecture (e.g. initializing a BertForSequenceClassification model from a BertForPreTraining model).\n",
            "- This IS NOT expected if you are initializing SqueezeBertForMaskedLM from the checkpoint of a model that you expect to be exactly identical (initializing a BertForSequenceClassification model from a BertForSequenceClassification model).\n",
            "Some weights of SqueezeBertForMaskedLM were not initialized from the model checkpoint at squeezebert/squeezebert-uncased and are newly initialized: ['transformer.embeddings.position_ids']\n",
            "You should probably TRAIN this model on a down-stream task to be able to use it for predictions and inference.\n",
            "Evaluating intrasentence task.\n",
            "2023-04-28 19:14:59.264759: W tensorflow/compiler/tf2tensorrt/utils/py_utils.cc:38] TF-TRT Warning: Could not find TensorRT\n",
            "100% 24464/24464 [06:17<00:00, 64.88it/s]\n"
          ]
        }
      ]
    },
    {
      "cell_type": "code",
      "source": [
        "!ls bias-bench/results/stereoset\n",
        "!python3 bias-bench/experiments/stereoset_evaluation.py --predictions_file bias-bench/results/stereoset/stereoset_m-SqueezeBertForMaskedLM_c-bert-base-uncased.json --output_file out7!.txt "
      ],
      "metadata": {
        "colab": {
          "base_uri": "https://localhost:8080/"
        },
        "id": "ZL4X_rDaVC9j",
        "outputId": "a596940c-c241-4f96-e669-26b1fb008a1c"
      },
      "execution_count": null,
      "outputs": [
        {
          "output_type": "stream",
          "name": "stdout",
          "text": [
            "stereoset_m-BartForCausalLM_c-bert-base-uncased.json\n",
            "stereoset_m-BertForMaskedLM_c-bert-base-uncased.json\n",
            "stereoset_m-BigBirdForMaskedLM_c-roberta-base.json\n",
            "stereoset_m-OpenAIGPTLMHeadModel_c-bert-base-uncased.json\n",
            "stereoset_m-SqueezeBertForMaskedLM_c-bert-base-uncased.json\n",
            "Evaluating StereoSet files:\n",
            " - predictions_file: bias-bench/results/stereoset/stereoset_m-SqueezeBertForMaskedLM_c-bert-base-uncased.json\n",
            " - predictions_dir: None\n",
            " - output_file: out7!.txt\n",
            "intrasentence\n",
            "\tgender\n",
            "\t\tCount: 2313.0\n",
            "\t\tLM Score: 86.16453960230821\n",
            "\t\tSS Score: 58.20518459366535\n",
            "\t\tICAT Score: 72.02462054500566\n",
            "\tprofession\n",
            "\t\tCount: 7194.0\n",
            "\t\tLM Score: 84.28195347279556\n",
            "\t\tSS Score: 59.24312379532376\n",
            "\t\tICAT Score: 68.70138287958024\n",
            "\trace\n",
            "\t\tCount: 8928.0\n",
            "\t\tLM Score: 83.90492149801499\n",
            "\t\tSS Score: 57.97243211419324\n",
            "\t\tICAT Score: 70.52639568422224\n",
            "\treligion\n",
            "\t\tCount: 741.0\n",
            "\t\tLM Score: 84.10828524071634\n",
            "\t\tSS Score: 60.157850613294926\n",
            "\t\tICAT Score: 67.02109730440444\n",
            "\toverall\n",
            "\t\tCount: 6392.0\n",
            "\t\tLM Score: 84.33282106224374\n",
            "\t\tSS Score: 58.55513290831648\n",
            "\t\tICAT Score: 69.9032512078284\n",
            "overall\n",
            "\tCount: 6392.0\n",
            "\tLM Score: 84.33282106224374\n",
            "\tSS Score: 58.55513290831648\n",
            "\tICAT Score: 69.9032512078284\n"
          ]
        }
      ]
    },
    {
      "cell_type": "code",
      "source": [
        "!python3 bias-bench/experiments/stereoset.py --model XLMRobertaForMaskedLM"
      ],
      "metadata": {
        "colab": {
          "base_uri": "https://localhost:8080/"
        },
        "id": "tIM75RrAWT6X",
        "outputId": "1ab3b099-3eb8-4890-9f32-489d21da0897"
      },
      "execution_count": null,
      "outputs": [
        {
          "output_type": "stream",
          "name": "stdout",
          "text": [
            "Running StereoSet:\n",
            " - persistent_dir: /content/bias-bench\n",
            " - model: XLMRobertaForMaskedLM\n",
            " - model_name_or_path: bert-base-uncased\n",
            " - batch_size: 1\n",
            " - seed: None\n",
            "Downloading: 100% 615/615 [00:00<00:00, 572kB/s]\n",
            "Downloading: 100% 1.04G/1.04G [00:10<00:00, 102MB/s] \n",
            "Evaluating intrasentence task.\n",
            "2023-04-28 19:32:27.449306: W tensorflow/compiler/tf2tensorrt/utils/py_utils.cc:38] TF-TRT Warning: Could not find TensorRT\n",
            "100% 24464/24464 [07:54<00:00, 51.60it/s]\n"
          ]
        }
      ]
    },
    {
      "cell_type": "code",
      "source": [
        "!ls bias-bench/results/stereoset\n",
        "!python3 bias-bench/experiments/stereoset_evaluation.py --predictions_file bias-bench/results/stereoset/stereoset_m-XLMRobertaForMaskedLM_c-bert-base-uncased.json --output_file out7!.txt "
      ],
      "metadata": {
        "colab": {
          "base_uri": "https://localhost:8080/"
        },
        "id": "T9Jrx-IxYaXU",
        "outputId": "da2b9405-7d66-46d0-a51c-d66afc7380a9"
      },
      "execution_count": null,
      "outputs": [
        {
          "output_type": "stream",
          "name": "stdout",
          "text": [
            "stereoset_m-BartForCausalLM_c-bert-base-uncased.json\n",
            "stereoset_m-BertForMaskedLM_c-bert-base-uncased.json\n",
            "stereoset_m-BigBirdForMaskedLM_c-roberta-base.json\n",
            "stereoset_m-OpenAIGPTLMHeadModel_c-bert-base-uncased.json\n",
            "stereoset_m-SqueezeBertForMaskedLM_c-bert-base-uncased.json\n",
            "stereoset_m-XLMRobertaForMaskedLM_c-bert-base-uncased.json\n",
            "Evaluating StereoSet files:\n",
            " - predictions_file: bias-bench/results/stereoset/stereoset_m-XLMRobertaForMaskedLM_c-bert-base-uncased.json\n",
            " - predictions_dir: None\n",
            " - output_file: out7!.txt\n",
            "intrasentence\n",
            "\tgender\n",
            "\t\tCount: 2313.0\n",
            "\t\tLM Score: 50.1256309883871\n",
            "\t\tSS Score: 52.10862460137822\n",
            "\t\tICAT Score: 48.011708215152716\n",
            "\tprofession\n",
            "\t\tCount: 7194.0\n",
            "\t\tLM Score: 48.19774956665974\n",
            "\t\tSS Score: 50.860949835462854\n",
            "\t\tICAT Score: 47.36783267547783\n",
            "\trace\n",
            "\t\tCount: 8928.0\n",
            "\t\tLM Score: 48.96174621554484\n",
            "\t\tSS Score: 53.76817452988787\n",
            "\t\tICAT Score: 45.27181811497984\n",
            "\treligion\n",
            "\t\tCount: 741.0\n",
            "\t\tLM Score: 46.27423929426154\n",
            "\t\tSS Score: 58.290353315690105\n",
            "\t\tICAT Score: 38.60164343097718\n",
            "\toverall\n",
            "\t\tCount: 6392.0\n",
            "\t\tLM Score: 48.72194986221451\n",
            "\t\tSS Score: 52.649426136163406\n",
            "\t\tICAT Score: 46.140245714818626\n",
            "overall\n",
            "\tCount: 6392.0\n",
            "\tLM Score: 48.72194986221451\n",
            "\tSS Score: 52.649426136163406\n",
            "\tICAT Score: 46.140245714818626\n"
          ]
        }
      ]
    },
    {
      "cell_type": "code",
      "source": [
        "!python3 bias-bench/experiments/stereoset.py --model YosoForMaskedLM"
      ],
      "metadata": {
        "colab": {
          "base_uri": "https://localhost:8080/"
        },
        "id": "IiADS1PfYoJA",
        "outputId": "d4505cfa-f639-4fd4-c9c7-ddb8eb35d1fe"
      },
      "execution_count": null,
      "outputs": [
        {
          "output_type": "stream",
          "name": "stdout",
          "text": [
            "Running StereoSet:\n",
            " - persistent_dir: /content/bias-bench\n",
            " - model: YosoForMaskedLM\n",
            " - model_name_or_path: bert-base-uncased\n",
            " - batch_size: 1\n",
            " - seed: None\n",
            "Downloading: 100% 754/754 [00:00<00:00, 727kB/s]\n",
            "Downloading: 100% 486M/486M [00:39<00:00, 12.8MB/s]\n",
            "Evaluating intrasentence task.\n",
            "2023-04-28 19:44:35.708108: W tensorflow/compiler/tf2tensorrt/utils/py_utils.cc:38] TF-TRT Warning: Could not find TensorRT\n",
            "100% 24464/24464 [07:02<00:00, 57.86it/s]\n"
          ]
        }
      ]
    },
    {
      "cell_type": "code",
      "source": [
        "!ls bias-bench/results/stereoset\n",
        "!python3 bias-bench/experiments/stereoset_evaluation.py --predictions_file bias-bench/results/stereoset/stereoset_m-YosoForMaskedLM_c-bert-base-uncased.json --output_file out8!.txt "
      ],
      "metadata": {
        "colab": {
          "base_uri": "https://localhost:8080/"
        },
        "id": "nivXtn1La_ev",
        "outputId": "d4fbf609-a23a-4464-9f34-38050eabd83b"
      },
      "execution_count": null,
      "outputs": [
        {
          "output_type": "stream",
          "name": "stdout",
          "text": [
            "stereoset_m-BartForCausalLM_c-bert-base-uncased.json\n",
            "stereoset_m-BertForMaskedLM_c-bert-base-uncased.json\n",
            "stereoset_m-BigBirdForMaskedLM_c-roberta-base.json\n",
            "stereoset_m-OpenAIGPTLMHeadModel_c-bert-base-uncased.json\n",
            "stereoset_m-SqueezeBertForMaskedLM_c-bert-base-uncased.json\n",
            "stereoset_m-XLMRobertaForMaskedLM_c-bert-base-uncased.json\n",
            "stereoset_m-YosoForMaskedLM_c-bert-base-uncased.json\n",
            "Evaluating StereoSet files:\n",
            " - predictions_file: bias-bench/results/stereoset/stereoset_m-YosoForMaskedLM_c-bert-base-uncased.json\n",
            " - predictions_dir: None\n",
            " - output_file: out8!.txt\n",
            "intrasentence\n",
            "\tgender\n",
            "\t\tCount: 2313.0\n",
            "\t\tLM Score: 50.79395735264052\n",
            "\t\tSS Score: 50.87152926570718\n",
            "\t\tICAT Score: 49.90858894556234\n",
            "\tprofession\n",
            "\t\tCount: 7194.0\n",
            "\t\tLM Score: 53.663324446771156\n",
            "\t\tSS Score: 49.892288568354836\n",
            "\t\tICAT Score: 53.547721376711145\n",
            "\trace\n",
            "\t\tCount: 8928.0\n",
            "\t\tLM Score: 53.49343183977204\n",
            "\t\tSS Score: 51.51627186656018\n",
            "\t\tICAT Score: 51.871220124884026\n",
            "\treligion\n",
            "\t\tCount: 741.0\n",
            "\t\tLM Score: 53.620369820468696\n",
            "\t\tSS Score: 54.82204171179576\n",
            "\t\tICAT Score: 48.44917662294441\n",
            "\toverall\n",
            "\t\tCount: 6392.0\n",
            "\t\tLM Score: 53.22669027713669\n",
            "\t\tSS Score: 50.9553262208703\n",
            "\t\tICAT Score: 52.20971321969888\n",
            "overall\n",
            "\tCount: 6392.0\n",
            "\tLM Score: 53.22669027713669\n",
            "\tSS Score: 50.9553262208703\n",
            "\tICAT Score: 52.20971321969888\n"
          ]
        }
      ]
    },
    {
      "cell_type": "code",
      "source": [
        "!python3 bias-bench/experiments/stereoset.py --model XLNetLMHeadModel"
      ],
      "metadata": {
        "colab": {
          "base_uri": "https://localhost:8080/"
        },
        "id": "N3AtikW6cngU",
        "outputId": "b9bb550d-388f-4d15-9cec-694bf0724bcb"
      },
      "execution_count": null,
      "outputs": [
        {
          "output_type": "stream",
          "name": "stdout",
          "text": [
            "Running StereoSet:\n",
            " - persistent_dir: /content/bias-bench\n",
            " - model: XLNetLMHeadModel\n",
            " - model_name_or_path: bert-base-uncased\n",
            " - batch_size: 1\n",
            " - seed: None\n",
            "Downloading: 100% 761/761 [00:00<00:00, 769kB/s]\n",
            "Downloading: 100% 1.34G/1.34G [01:24<00:00, 17.1MB/s]\n",
            "Evaluating intrasentence task.\n",
            "2023-04-28 20:02:52.184651: W tensorflow/compiler/tf2tensorrt/utils/py_utils.cc:38] TF-TRT Warning: Could not find TensorRT\n",
            "100% 24464/24464 [12:54<00:00, 31.58it/s]\n"
          ]
        }
      ]
    },
    {
      "cell_type": "code",
      "source": [
        "!ls bias-bench/results/stereoset\n",
        "!python3 bias-bench/experiments/stereoset_evaluation.py --predictions_file bias-bench/results/stereoset/stereoset_m-XLNetLMHeadModel_c-bert-base-uncased.json --output_file out8!.txt "
      ],
      "metadata": {
        "colab": {
          "base_uri": "https://localhost:8080/"
        },
        "id": "bS8ZyPBngjTC",
        "outputId": "a532c107-7513-4f20-cff1-de942bda6179"
      },
      "execution_count": null,
      "outputs": [
        {
          "output_type": "stream",
          "name": "stdout",
          "text": [
            "stereoset_m-BartForCausalLM_c-bert-base-uncased.json\n",
            "stereoset_m-BertForMaskedLM_c-bert-base-uncased.json\n",
            "stereoset_m-BigBirdForMaskedLM_c-roberta-base.json\n",
            "stereoset_m-OpenAIGPTLMHeadModel_c-bert-base-uncased.json\n",
            "stereoset_m-SqueezeBertForMaskedLM_c-bert-base-uncased.json\n",
            "stereoset_m-XLMRobertaForMaskedLM_c-bert-base-uncased.json\n",
            "stereoset_m-XLNetLMHeadModel_c-bert-base-uncased.json\n",
            "stereoset_m-YosoForMaskedLM_c-bert-base-uncased.json\n",
            "Evaluating StereoSet files:\n",
            " - predictions_file: bias-bench/results/stereoset/stereoset_m-XLNetLMHeadModel_c-bert-base-uncased.json\n",
            " - predictions_dir: None\n",
            " - output_file: out8!.txt\n",
            "intrasentence\n",
            "\tgender\n",
            "\t\tCount: 2313.0\n",
            "\t\tLM Score: 52.00538069894641\n",
            "\t\tSS Score: 46.92374042009224\n",
            "\t\tICAT Score: 48.80573968730872\n",
            "\tprofession\n",
            "\t\tCount: 7194.0\n",
            "\t\tLM Score: 54.51784548657698\n",
            "\t\tSS Score: 49.95416778280105\n",
            "\t\tICAT Score: 54.46787201186579\n",
            "\trace\n",
            "\t\tCount: 8928.0\n",
            "\t\tLM Score: 51.417529567537635\n",
            "\t\tSS Score: 50.173598778932984\n",
            "\t\tICAT Score: 51.23900916056414\n",
            "\treligion\n",
            "\t\tCount: 741.0\n",
            "\t\tLM Score: 49.47534995891195\n",
            "\t\tSS Score: 57.60822555409133\n",
            "\t\tICAT Score: 41.94695752181185\n",
            "\toverall\n",
            "\t\tCount: 6392.0\n",
            "\t\tLM Score: 52.57118390711687\n",
            "\t\tSS Score: 49.96561159116162\n",
            "\t\tICAT Score: 52.53502711981056\n",
            "overall\n",
            "\tCount: 6392.0\n",
            "\tLM Score: 52.57118390711687\n",
            "\tSS Score: 49.96561159116162\n",
            "\tICAT Score: 52.53502711981056\n"
          ]
        }
      ]
    },
    {
      "cell_type": "code",
      "source": [
        "!python3 bias-bench/experiments/stereoset.py --model RoFormerForMaskedLM"
      ],
      "metadata": {
        "colab": {
          "base_uri": "https://localhost:8080/"
        },
        "id": "aHE1NnqEw5Xq",
        "outputId": "88ee5b52-11af-40b3-9820-9ea59902782e"
      },
      "execution_count": null,
      "outputs": [
        {
          "output_type": "stream",
          "name": "stdout",
          "text": [
            "Running StereoSet:\n",
            " - persistent_dir: /content/bias-bench\n",
            " - model: RoFormerForMaskedLM\n",
            " - model_name_or_path: bert-base-uncased\n",
            " - batch_size: 1\n",
            " - seed: None\n",
            "Downloading: 100% 465/465 [00:00<00:00, 317kB/s]\n",
            "Downloading: 100% 476M/476M [00:05<00:00, 99.0MB/s]\n",
            "Some weights of the model checkpoint at junnyu/roformer_chinese_base were not used when initializing RoFormerForMaskedLM: ['roformer.pooler.dense.bias', 'cls.seq_relationship.weight', 'roformer.pooler.dense.weight', 'cls.seq_relationship.bias']\n",
            "- This IS expected if you are initializing RoFormerForMaskedLM from the checkpoint of a model trained on another task or with another architecture (e.g. initializing a BertForSequenceClassification model from a BertForPreTraining model).\n",
            "- This IS NOT expected if you are initializing RoFormerForMaskedLM from the checkpoint of a model that you expect to be exactly identical (initializing a BertForSequenceClassification model from a BertForSequenceClassification model).\n",
            "Some weights of RoFormerForMaskedLM were not initialized from the model checkpoint at junnyu/roformer_chinese_base and are newly initialized: ['roformer.encoder.embed_positions.weight']\n",
            "You should probably TRAIN this model on a down-stream task to be able to use it for predictions and inference.\n",
            "Evaluating intrasentence task.\n",
            "2023-04-28 22:02:24.860980: W tensorflow/compiler/tf2tensorrt/utils/py_utils.cc:38] TF-TRT Warning: Could not find TensorRT\n",
            "100% 24464/24464 [06:36<00:00, 61.76it/s]\n"
          ]
        }
      ]
    },
    {
      "cell_type": "code",
      "source": [
        "!ls bias-bench/results/stereoset\n",
        "!python3 bias-bench/experiments/stereoset_evaluation.py --predictions_file bias-bench/results/stereoset/stereoset_m-RoFormerForMaskedLM_c-bert-base-uncased.json --output_file out9!.txt "
      ],
      "metadata": {
        "colab": {
          "base_uri": "https://localhost:8080/"
        },
        "id": "3_Nu_-fI6eeg",
        "outputId": "47bb1a75-5772-44d1-e962-6c77ca896f05"
      },
      "execution_count": null,
      "outputs": [
        {
          "output_type": "stream",
          "name": "stdout",
          "text": [
            "stereoset_m-BartForCausalLM_c-bert-base-uncased.json\n",
            "stereoset_m-BertForMaskedLM_c-bert-base-uncased.json\n",
            "stereoset_m-BigBirdForMaskedLM_c-roberta-base.json\n",
            "stereoset_m-OpenAIGPTLMHeadModel_c-bert-base-uncased.json\n",
            "stereoset_m-RoFormerForMaskedLM_c-bert-base-uncased.json\n",
            "stereoset_m-SqueezeBertForMaskedLM_c-bert-base-uncased.json\n",
            "stereoset_m-XLMRobertaForMaskedLM_c-bert-base-uncased.json\n",
            "stereoset_m-XLNetLMHeadModel_c-bert-base-uncased.json\n",
            "stereoset_m-YosoForMaskedLM_c-bert-base-uncased.json\n",
            "Evaluating StereoSet files:\n",
            " - predictions_file: bias-bench/results/stereoset/stereoset_m-RoFormerForMaskedLM_c-bert-base-uncased.json\n",
            " - predictions_dir: None\n",
            " - output_file: out9!.txt\n",
            "intrasentence\n",
            "\tgender\n",
            "\t\tCount: 2313.0\n",
            "\t\tLM Score: 46.61418775525472\n",
            "\t\tSS Score: 51.83575408710342\n",
            "\t\tICAT Score: 44.90274404148042\n",
            "\tprofession\n",
            "\t\tCount: 7194.0\n",
            "\t\tLM Score: 51.98054164151719\n",
            "\t\tSS Score: 51.35056664381706\n",
            "\t\tICAT Score: 50.57647792814566\n",
            "\trace\n",
            "\t\tCount: 8928.0\n",
            "\t\tLM Score: 48.628943210209385\n",
            "\t\tSS Score: 49.961465736583534\n",
            "\t\tICAT Score: 48.591465600062854\n",
            "\treligion\n",
            "\t\tCount: 741.0\n",
            "\t\tLM Score: 50.25252450941488\n",
            "\t\tSS Score: 50.500752354664115\n",
            "\t\tICAT Score: 49.749243109896774\n",
            "\toverall\n",
            "\t\tCount: 6392.0\n",
            "\t\tLM Score: 49.68602348649828\n",
            "\t\tSS Score: 50.73047942141551\n",
            "\t\tICAT Score: 48.96013113272119\n",
            "overall\n",
            "\tCount: 6392.0\n",
            "\tLM Score: 49.68602348649828\n",
            "\tSS Score: 50.73047942141551\n",
            "\tICAT Score: 48.96013113272119\n"
          ]
        }
      ]
    },
    {
      "cell_type": "code",
      "source": [
        "!python3 bias-bench/experiments/stereoset.py --model "
      ],
      "metadata": {
        "id": "KU3oCSw98jti"
      },
      "execution_count": null,
      "outputs": []
    },
    {
      "cell_type": "markdown",
      "source": [],
      "metadata": {
        "id": "ineAJf1MREd1"
      }
    }
  ]
}